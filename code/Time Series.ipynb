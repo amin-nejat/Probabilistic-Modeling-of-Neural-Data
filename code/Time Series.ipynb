{
 "cells": [
  {
   "cell_type": "code",
   "execution_count": null,
   "id": "2c20a044-8fa9-40f9-8c00-0b2a56521f1a",
   "metadata": {},
   "outputs": [],
   "source": [
    "import argparse\n",
    "import logging\n",
    "import sys\n",
    "\n",
    "import torch\n",
    "import torch.nn as nn\n",
    "from torch.distributions import constraints\n",
    "\n",
    "import pyro\n",
    "import pyro.contrib.examples.polyphonic_data_loader as poly\n",
    "import pyro.distributions as dist\n",
    "from pyro import poutine\n",
    "from pyro.infer import SVI, JitTraceEnum_ELBO, TraceEnum_ELBO, TraceTMC_ELBO\n",
    "from pyro.infer.autoguide import AutoDelta\n",
    "from pyro.ops.indexing import Vindex\n",
    "from pyro.optim import Adam\n",
    "from pyro.util import ignore_jit_warnings\n",
    "\n",
    "logging.basicConfig(format=\"%(relativeCreated) 9d %(message)s\", level=logging.DEBUG)\n",
    "\n",
    "# Add another handler for logging debugging events (e.g. for profiling)\n",
    "# in a separate stream that can be captured.\n",
    "log = logging.getLogger()\n",
    "debug_handler = logging.StreamHandler(sys.stdout)\n",
    "debug_handler.setLevel(logging.DEBUG)\n",
    "debug_handler.addFilter(filter=lambda record: record.levelno <= logging.DEBUG)\n",
    "log.addHandler(debug_handler)\n",
    "\n",
    "\n",
    "cuda = True\n",
    "num_steps = 20\n",
    "learning_rate = .05\n",
    "tmc_num_samples = 100\n",
    "seed = 0\n",
    "batch_size = 16\n",
    "hidden_dim = 16"
   ]
  },
  {
   "cell_type": "code",
   "execution_count": 156,
   "id": "294627a8-dd53-4f4e-a474-d267c26f3fd0",
   "metadata": {},
   "outputs": [],
   "source": [
    "# %% Models\n",
    "\n",
    "def HMM(sequences, lengths, hidden_dim, batch_size=None, include_prior=True, jit=True):\n",
    "    num_sequences, max_length, data_dim = map(int, sequences.shape)\n",
    "    \n",
    "    with poutine.mask(mask=include_prior):\n",
    "        probs_x = pyro.sample(\"probs_x\",dist.Dirichlet(0.9 * torch.eye(hidden_dim) + 0.1).to_event(1))\n",
    "        probs_y = pyro.sample(\"probs_y\",dist.Beta(0.1, 0.9).expand([hidden_dim, data_dim]).to_event(2))\n",
    "        \n",
    "    obs_plate = pyro.plate(\"obs\", data_dim, dim=-1)\n",
    "    \n",
    "    with pyro.plate(\"sequences\", num_sequences, batch_size, dim=-2) as batch:\n",
    "        lengths = lengths[batch]\n",
    "        x = 0\n",
    "        for t in pyro.markov(range(max_length if jit else lengths.max())):\n",
    "            with poutine.mask(mask=(t < lengths).unsqueeze(-1)):\n",
    "                x = pyro.sample(\"x_{}\".format(t),dist.Categorical(probs_x[x]),infer={\"enumerate\": \"parallel\"})\n",
    "                with obs_plate:\n",
    "                    pyro.sample(\"y_{}\".format(t),dist.Bernoulli(probs_y[x.squeeze(-1)]),obs=sequences[batch, t])\n",
    "\n",
    "\n",
    "def ARHMM(sequences, lengths, hidden_dim, batch_size=None, include_prior=True, jit=True):\n",
    "    num_sequences, max_length, data_dim = map(int, sequences.shape)\n",
    "    \n",
    "    with poutine.mask(mask=include_prior):\n",
    "        probs_x = pyro.sample(\"probs_x\",dist.Dirichlet(0.9 * torch.eye(hidden_dim) + 0.1).to_event(1))\n",
    "        probs_y = pyro.sample(\"probs_y\",dist.Beta(0.1, 0.9).expand([hidden_dim, 2, data_dim]).to_event(3))\n",
    "        \n",
    "    obs_plate = pyro.plate(\"obs\", data_dim, dim=-1)\n",
    "    \n",
    "    with pyro.plate(\"sequences\", num_sequences, batch_size, dim=-2) as batch:\n",
    "        lengths = lengths[batch]\n",
    "        x, y = 0, 0\n",
    "        for t in pyro.markov(range(max_length if jit else lengths.max())):\n",
    "            with poutine.mask(mask=(t < lengths).unsqueeze(-1)):\n",
    "                x = pyro.sample(\"x_{}\".format(t),dist.Categorical(probs_x[x]),infer={\"enumerate\": \"parallel\"})\n",
    "                with obs_plate as obs:\n",
    "                    y = pyro.sample(\"y_{}\".format(t),dist.Bernoulli(probs_y[x, y, obs]),obs=sequences[batch, t]).long()\n"
   ]
  },
  {
   "cell_type": "code",
   "execution_count": 157,
   "id": "b73bd59e-22c0-414d-9708-df68af255e65",
   "metadata": {},
   "outputs": [
    {
     "name": "stderr",
     "output_type": "stream",
     "text": [
      " 77152321 Loading data\n",
      " 77152448 ----------------------------------------\n",
      " 77153683     0\t18.52133655030057\n",
      " 77154753     1\t23.336733631491274\n"
     ]
    },
    {
     "ename": "KeyboardInterrupt",
     "evalue": "",
     "output_type": "error",
     "traceback": [
      "\u001b[1;31m---------------------------------------------------------------------------\u001b[0m",
      "\u001b[1;31mKeyboardInterrupt\u001b[0m                         Traceback (most recent call last)",
      "\u001b[1;32m~\\AppData\\Local\\Temp/ipykernel_19784/1753721441.py\u001b[0m in \u001b[0;36m<module>\u001b[1;34m\u001b[0m\n\u001b[0;32m     27\u001b[0m \u001b[1;33m\u001b[0m\u001b[0m\n\u001b[0;32m     28\u001b[0m \u001b[1;32mfor\u001b[0m \u001b[0mstep\u001b[0m \u001b[1;32min\u001b[0m \u001b[0mrange\u001b[0m\u001b[1;33m(\u001b[0m\u001b[0mnum_steps\u001b[0m\u001b[1;33m)\u001b[0m\u001b[1;33m:\u001b[0m\u001b[1;33m\u001b[0m\u001b[1;33m\u001b[0m\u001b[0m\n\u001b[1;32m---> 29\u001b[1;33m     \u001b[0mloss\u001b[0m \u001b[1;33m=\u001b[0m \u001b[0msvi\u001b[0m\u001b[1;33m.\u001b[0m\u001b[0mstep\u001b[0m\u001b[1;33m(\u001b[0m\u001b[0msequences\u001b[0m\u001b[1;33m,\u001b[0m \u001b[0mlengths\u001b[0m\u001b[1;33m,\u001b[0m \u001b[0mhidden_dim\u001b[0m\u001b[1;33m=\u001b[0m\u001b[0mhidden_dim\u001b[0m\u001b[1;33m,\u001b[0m \u001b[0mbatch_size\u001b[0m\u001b[1;33m=\u001b[0m\u001b[0mbatch_size\u001b[0m\u001b[1;33m)\u001b[0m\u001b[1;33m\u001b[0m\u001b[1;33m\u001b[0m\u001b[0m\n\u001b[0m\u001b[0;32m     30\u001b[0m     \u001b[0mlogging\u001b[0m\u001b[1;33m.\u001b[0m\u001b[0minfo\u001b[0m\u001b[1;33m(\u001b[0m\u001b[1;34m\"{: >5d}\\t{}\"\u001b[0m\u001b[1;33m.\u001b[0m\u001b[0mformat\u001b[0m\u001b[1;33m(\u001b[0m\u001b[0mstep\u001b[0m\u001b[1;33m,\u001b[0m \u001b[0mloss\u001b[0m \u001b[1;33m/\u001b[0m \u001b[0mnum_observations\u001b[0m\u001b[1;33m)\u001b[0m\u001b[1;33m)\u001b[0m\u001b[1;33m\u001b[0m\u001b[1;33m\u001b[0m\u001b[0m\n",
      "\u001b[1;32m~\\Anaconda3\\lib\\site-packages\\pyro\\infer\\svi.py\u001b[0m in \u001b[0;36mstep\u001b[1;34m(self, *args, **kwargs)\u001b[0m\n\u001b[0;32m    143\u001b[0m         \u001b[1;31m# get loss and compute gradients\u001b[0m\u001b[1;33m\u001b[0m\u001b[1;33m\u001b[0m\u001b[1;33m\u001b[0m\u001b[0m\n\u001b[0;32m    144\u001b[0m         \u001b[1;32mwith\u001b[0m \u001b[0mpoutine\u001b[0m\u001b[1;33m.\u001b[0m\u001b[0mtrace\u001b[0m\u001b[1;33m(\u001b[0m\u001b[0mparam_only\u001b[0m\u001b[1;33m=\u001b[0m\u001b[1;32mTrue\u001b[0m\u001b[1;33m)\u001b[0m \u001b[1;32mas\u001b[0m \u001b[0mparam_capture\u001b[0m\u001b[1;33m:\u001b[0m\u001b[1;33m\u001b[0m\u001b[1;33m\u001b[0m\u001b[0m\n\u001b[1;32m--> 145\u001b[1;33m             \u001b[0mloss\u001b[0m \u001b[1;33m=\u001b[0m \u001b[0mself\u001b[0m\u001b[1;33m.\u001b[0m\u001b[0mloss_and_grads\u001b[0m\u001b[1;33m(\u001b[0m\u001b[0mself\u001b[0m\u001b[1;33m.\u001b[0m\u001b[0mmodel\u001b[0m\u001b[1;33m,\u001b[0m \u001b[0mself\u001b[0m\u001b[1;33m.\u001b[0m\u001b[0mguide\u001b[0m\u001b[1;33m,\u001b[0m \u001b[1;33m*\u001b[0m\u001b[0margs\u001b[0m\u001b[1;33m,\u001b[0m \u001b[1;33m**\u001b[0m\u001b[0mkwargs\u001b[0m\u001b[1;33m)\u001b[0m\u001b[1;33m\u001b[0m\u001b[1;33m\u001b[0m\u001b[0m\n\u001b[0m\u001b[0;32m    146\u001b[0m \u001b[1;33m\u001b[0m\u001b[0m\n\u001b[0;32m    147\u001b[0m         params = set(\n",
      "\u001b[1;32m~\\Anaconda3\\lib\\site-packages\\pyro\\infer\\tracetmc_elbo.py\u001b[0m in \u001b[0;36mloss_and_grads\u001b[1;34m(self, model, guide, *args, **kwargs)\u001b[0m\n\u001b[0;32m    223\u001b[0m \u001b[1;33m\u001b[0m\u001b[0m\n\u001b[0;32m    224\u001b[0m     \u001b[1;32mdef\u001b[0m \u001b[0mloss_and_grads\u001b[0m\u001b[1;33m(\u001b[0m\u001b[0mself\u001b[0m\u001b[1;33m,\u001b[0m \u001b[0mmodel\u001b[0m\u001b[1;33m,\u001b[0m \u001b[0mguide\u001b[0m\u001b[1;33m,\u001b[0m \u001b[1;33m*\u001b[0m\u001b[0margs\u001b[0m\u001b[1;33m,\u001b[0m \u001b[1;33m**\u001b[0m\u001b[0mkwargs\u001b[0m\u001b[1;33m)\u001b[0m\u001b[1;33m:\u001b[0m\u001b[1;33m\u001b[0m\u001b[1;33m\u001b[0m\u001b[0m\n\u001b[1;32m--> 225\u001b[1;33m         \u001b[0mloss\u001b[0m \u001b[1;33m=\u001b[0m \u001b[0mself\u001b[0m\u001b[1;33m.\u001b[0m\u001b[0mdifferentiable_loss\u001b[0m\u001b[1;33m(\u001b[0m\u001b[0mmodel\u001b[0m\u001b[1;33m,\u001b[0m \u001b[0mguide\u001b[0m\u001b[1;33m,\u001b[0m \u001b[1;33m*\u001b[0m\u001b[0margs\u001b[0m\u001b[1;33m,\u001b[0m \u001b[1;33m**\u001b[0m\u001b[0mkwargs\u001b[0m\u001b[1;33m)\u001b[0m\u001b[1;33m\u001b[0m\u001b[1;33m\u001b[0m\u001b[0m\n\u001b[0m\u001b[0;32m    226\u001b[0m         \u001b[1;32mif\u001b[0m \u001b[0mis_identically_zero\u001b[0m\u001b[1;33m(\u001b[0m\u001b[0mloss\u001b[0m\u001b[1;33m)\u001b[0m \u001b[1;32mor\u001b[0m \u001b[1;32mnot\u001b[0m \u001b[0mloss\u001b[0m\u001b[1;33m.\u001b[0m\u001b[0mrequires_grad\u001b[0m\u001b[1;33m:\u001b[0m\u001b[1;33m\u001b[0m\u001b[1;33m\u001b[0m\u001b[0m\n\u001b[0;32m    227\u001b[0m             \u001b[1;32mreturn\u001b[0m \u001b[0mtorch_item\u001b[0m\u001b[1;33m(\u001b[0m\u001b[0mloss\u001b[0m\u001b[1;33m)\u001b[0m\u001b[1;33m\u001b[0m\u001b[1;33m\u001b[0m\u001b[0m\n",
      "\u001b[1;32m~\\Anaconda3\\lib\\site-packages\\pyro\\infer\\tracetmc_elbo.py\u001b[0m in \u001b[0;36mdifferentiable_loss\u001b[1;34m(self, model, guide, *args, **kwargs)\u001b[0m\n\u001b[0;32m    204\u001b[0m         \u001b[0melbo\u001b[0m \u001b[1;33m=\u001b[0m \u001b[1;36m0.0\u001b[0m\u001b[1;33m\u001b[0m\u001b[1;33m\u001b[0m\u001b[0m\n\u001b[0;32m    205\u001b[0m         \u001b[1;32mfor\u001b[0m \u001b[0mmodel_trace\u001b[0m\u001b[1;33m,\u001b[0m \u001b[0mguide_trace\u001b[0m \u001b[1;32min\u001b[0m \u001b[0mself\u001b[0m\u001b[1;33m.\u001b[0m\u001b[0m_get_traces\u001b[0m\u001b[1;33m(\u001b[0m\u001b[0mmodel\u001b[0m\u001b[1;33m,\u001b[0m \u001b[0mguide\u001b[0m\u001b[1;33m,\u001b[0m \u001b[0margs\u001b[0m\u001b[1;33m,\u001b[0m \u001b[0mkwargs\u001b[0m\u001b[1;33m)\u001b[0m\u001b[1;33m:\u001b[0m\u001b[1;33m\u001b[0m\u001b[1;33m\u001b[0m\u001b[0m\n\u001b[1;32m--> 206\u001b[1;33m             \u001b[0melbo_particle\u001b[0m \u001b[1;33m=\u001b[0m \u001b[0m_compute_tmc_estimate\u001b[0m\u001b[1;33m(\u001b[0m\u001b[0mmodel_trace\u001b[0m\u001b[1;33m,\u001b[0m \u001b[0mguide_trace\u001b[0m\u001b[1;33m)\u001b[0m\u001b[1;33m\u001b[0m\u001b[1;33m\u001b[0m\u001b[0m\n\u001b[0m\u001b[0;32m    207\u001b[0m             \u001b[1;32mif\u001b[0m \u001b[0mis_identically_zero\u001b[0m\u001b[1;33m(\u001b[0m\u001b[0melbo_particle\u001b[0m\u001b[1;33m)\u001b[0m\u001b[1;33m:\u001b[0m\u001b[1;33m\u001b[0m\u001b[1;33m\u001b[0m\u001b[0m\n\u001b[0;32m    208\u001b[0m                 \u001b[1;32mcontinue\u001b[0m\u001b[1;33m\u001b[0m\u001b[1;33m\u001b[0m\u001b[0m\n",
      "\u001b[1;32m~\\Anaconda3\\lib\\site-packages\\pyro\\infer\\tracetmc_elbo.py\u001b[0m in \u001b[0;36m_compute_tmc_estimate\u001b[1;34m(model_trace, guide_trace)\u001b[0m\n\u001b[0;32m     93\u001b[0m         )\n\u001b[0;32m     94\u001b[0m     )\n\u001b[1;32m---> 95\u001b[1;33m     (tmc,) = einsum(\n\u001b[0m\u001b[0;32m     96\u001b[0m         \u001b[0meqn\u001b[0m\u001b[1;33m,\u001b[0m\u001b[1;33m\u001b[0m\u001b[1;33m\u001b[0m\u001b[0m\n\u001b[0;32m     97\u001b[0m         \u001b[1;33m*\u001b[0m\u001b[0mlog_factors\u001b[0m\u001b[1;33m,\u001b[0m\u001b[1;33m\u001b[0m\u001b[1;33m\u001b[0m\u001b[0m\n",
      "\u001b[1;32m~\\Anaconda3\\lib\\site-packages\\pyro\\ops\\contract.py\u001b[0m in \u001b[0;36meinsum\u001b[1;34m(equation, *operands, **kwargs)\u001b[0m\n\u001b[0;32m    414\u001b[0m         \u001b[1;32mfor\u001b[0m \u001b[0moutput\u001b[0m \u001b[1;32min\u001b[0m \u001b[0moutputs\u001b[0m\u001b[1;33m:\u001b[0m\u001b[1;33m\u001b[0m\u001b[1;33m\u001b[0m\u001b[0m\n\u001b[0;32m    415\u001b[0m             \u001b[0msum_dims\u001b[0m \u001b[1;33m=\u001b[0m \u001b[0mset\u001b[0m\u001b[1;33m(\u001b[0m\u001b[0moutput\u001b[0m\u001b[1;33m)\u001b[0m\u001b[1;33m.\u001b[0m\u001b[0munion\u001b[0m\u001b[1;33m(\u001b[0m\u001b[1;33m*\u001b[0m\u001b[0minputs\u001b[0m\u001b[1;33m)\u001b[0m \u001b[1;33m-\u001b[0m \u001b[0mset\u001b[0m\u001b[1;33m(\u001b[0m\u001b[0mplates\u001b[0m\u001b[1;33m)\u001b[0m\u001b[1;33m\u001b[0m\u001b[1;33m\u001b[0m\u001b[0m\n\u001b[1;32m--> 416\u001b[1;33m             term = contract_to_tensor(\n\u001b[0m\u001b[0;32m    417\u001b[0m                 \u001b[0mtensor_tree\u001b[0m\u001b[1;33m,\u001b[0m\u001b[1;33m\u001b[0m\u001b[1;33m\u001b[0m\u001b[0m\n\u001b[0;32m    418\u001b[0m                 \u001b[0msum_dims\u001b[0m\u001b[1;33m,\u001b[0m\u001b[1;33m\u001b[0m\u001b[1;33m\u001b[0m\u001b[0m\n",
      "\u001b[1;32m~\\Anaconda3\\lib\\site-packages\\pyro\\ops\\contract.py\u001b[0m in \u001b[0;36mcontract_to_tensor\u001b[1;34m(tensor_tree, sum_dims, target_ordinal, target_dims, cache, ring)\u001b[0m\n\u001b[0;32m    256\u001b[0m \u001b[1;33m\u001b[0m\u001b[0m\n\u001b[0;32m    257\u001b[0m         \u001b[1;31m# Contract this connected component down to a single tensor.\u001b[0m\u001b[1;33m\u001b[0m\u001b[1;33m\u001b[0m\u001b[1;33m\u001b[0m\u001b[0m\n\u001b[1;32m--> 258\u001b[1;33m         \u001b[0mordinal\u001b[0m\u001b[1;33m,\u001b[0m \u001b[0mterm\u001b[0m \u001b[1;33m=\u001b[0m \u001b[0m_contract_component\u001b[0m\u001b[1;33m(\u001b[0m\u001b[0mring\u001b[0m\u001b[1;33m,\u001b[0m \u001b[0mcomponent\u001b[0m\u001b[1;33m,\u001b[0m \u001b[0mdims\u001b[0m\u001b[1;33m,\u001b[0m \u001b[0mtarget_dims\u001b[0m \u001b[1;33m&\u001b[0m \u001b[0mdims\u001b[0m\u001b[1;33m)\u001b[0m\u001b[1;33m\u001b[0m\u001b[1;33m\u001b[0m\u001b[0m\n\u001b[0m\u001b[0;32m    259\u001b[0m         _check_plates_are_sensible(\n\u001b[0;32m    260\u001b[0m             \u001b[0mtarget_dims\u001b[0m\u001b[1;33m.\u001b[0m\u001b[0mintersection\u001b[0m\u001b[1;33m(\u001b[0m\u001b[0mterm\u001b[0m\u001b[1;33m.\u001b[0m\u001b[0m_pyro_dims\u001b[0m\u001b[1;33m)\u001b[0m\u001b[1;33m,\u001b[0m \u001b[0mordinal\u001b[0m \u001b[1;33m-\u001b[0m \u001b[0mtarget_ordinal\u001b[0m\u001b[1;33m\u001b[0m\u001b[1;33m\u001b[0m\u001b[0m\n",
      "\u001b[1;32m~\\Anaconda3\\lib\\site-packages\\pyro\\ops\\contract.py\u001b[0m in \u001b[0;36m_contract_component\u001b[1;34m(ring, tensor_tree, sum_dims, target_dims)\u001b[0m\n\u001b[0;32m    123\u001b[0m \u001b[1;33m\u001b[0m\u001b[0m\n\u001b[0;32m    124\u001b[0m             \u001b[1;31m# Eliminate sum dims via a sumproduct contraction.\u001b[0m\u001b[1;33m\u001b[0m\u001b[1;33m\u001b[0m\u001b[1;33m\u001b[0m\u001b[0m\n\u001b[1;32m--> 125\u001b[1;33m             \u001b[0mterm\u001b[0m \u001b[1;33m=\u001b[0m \u001b[0mring\u001b[0m\u001b[1;33m.\u001b[0m\u001b[0msumproduct\u001b[0m\u001b[1;33m(\u001b[0m\u001b[0mterms\u001b[0m\u001b[1;33m,\u001b[0m \u001b[0mdims\u001b[0m \u001b[1;33m-\u001b[0m \u001b[0mlocal_dims\u001b[0m\u001b[1;33m)\u001b[0m\u001b[1;33m\u001b[0m\u001b[1;33m\u001b[0m\u001b[0m\n\u001b[0m\u001b[0;32m    126\u001b[0m \u001b[1;33m\u001b[0m\u001b[0m\n\u001b[0;32m    127\u001b[0m             \u001b[1;31m# Eliminate extra plate dims via product contractions.\u001b[0m\u001b[1;33m\u001b[0m\u001b[1;33m\u001b[0m\u001b[1;33m\u001b[0m\u001b[0m\n",
      "\u001b[1;32m~\\Anaconda3\\lib\\site-packages\\pyro\\ops\\rings.py\u001b[0m in \u001b[0;36msumproduct\u001b[1;34m(self, terms, dims)\u001b[0m\n\u001b[0;32m    197\u001b[0m         \u001b[0moutput\u001b[0m \u001b[1;33m=\u001b[0m \u001b[1;34m\"\"\u001b[0m\u001b[1;33m.\u001b[0m\u001b[0mjoin\u001b[0m\u001b[1;33m(\u001b[0m\u001b[0msorted\u001b[0m\u001b[1;33m(\u001b[0m\u001b[0mset\u001b[0m\u001b[1;33m(\u001b[0m\u001b[1;34m\"\"\u001b[0m\u001b[1;33m.\u001b[0m\u001b[0mjoin\u001b[0m\u001b[1;33m(\u001b[0m\u001b[0minputs\u001b[0m\u001b[1;33m)\u001b[0m\u001b[1;33m)\u001b[0m \u001b[1;33m-\u001b[0m \u001b[0mset\u001b[0m\u001b[1;33m(\u001b[0m\u001b[0mdims\u001b[0m\u001b[1;33m)\u001b[0m\u001b[1;33m)\u001b[0m\u001b[1;33m)\u001b[0m\u001b[1;33m\u001b[0m\u001b[1;33m\u001b[0m\u001b[0m\n\u001b[0;32m    198\u001b[0m         \u001b[0mequation\u001b[0m \u001b[1;33m=\u001b[0m \u001b[1;34m\",\"\u001b[0m\u001b[1;33m.\u001b[0m\u001b[0mjoin\u001b[0m\u001b[1;33m(\u001b[0m\u001b[0minputs\u001b[0m\u001b[1;33m)\u001b[0m \u001b[1;33m+\u001b[0m \u001b[1;34m\"->\"\u001b[0m \u001b[1;33m+\u001b[0m \u001b[0moutput\u001b[0m\u001b[1;33m\u001b[0m\u001b[1;33m\u001b[0m\u001b[0m\n\u001b[1;32m--> 199\u001b[1;33m         \u001b[0mterm\u001b[0m \u001b[1;33m=\u001b[0m \u001b[0mcontract\u001b[0m\u001b[1;33m(\u001b[0m\u001b[0mequation\u001b[0m\u001b[1;33m,\u001b[0m \u001b[1;33m*\u001b[0m\u001b[0mterms\u001b[0m\u001b[1;33m,\u001b[0m \u001b[0mbackend\u001b[0m\u001b[1;33m=\u001b[0m\u001b[0mself\u001b[0m\u001b[1;33m.\u001b[0m\u001b[0m_backend\u001b[0m\u001b[1;33m)\u001b[0m\u001b[1;33m\u001b[0m\u001b[1;33m\u001b[0m\u001b[0m\n\u001b[0m\u001b[0;32m    200\u001b[0m         \u001b[0mterm\u001b[0m\u001b[1;33m.\u001b[0m\u001b[0m_pyro_dims\u001b[0m \u001b[1;33m=\u001b[0m \u001b[0moutput\u001b[0m\u001b[1;33m\u001b[0m\u001b[1;33m\u001b[0m\u001b[0m\n\u001b[0;32m    201\u001b[0m         \u001b[1;32mreturn\u001b[0m \u001b[0mterm\u001b[0m\u001b[1;33m\u001b[0m\u001b[1;33m\u001b[0m\u001b[0m\n",
      "\u001b[1;32m~\\Anaconda3\\lib\\site-packages\\pyro\\ops\\einsum\\__init__.py\u001b[0m in \u001b[0;36mcontract\u001b[1;34m(equation, *operands, **kwargs)\u001b[0m\n\u001b[0;32m     44\u001b[0m     \u001b[1;32mwith\u001b[0m \u001b[0mignore_jit_warnings\u001b[0m\u001b[1;33m(\u001b[0m\u001b[1;33m)\u001b[0m\u001b[1;33m:\u001b[0m\u001b[1;33m\u001b[0m\u001b[1;33m\u001b[0m\u001b[0m\n\u001b[0;32m     45\u001b[0m         \u001b[0mexpr\u001b[0m \u001b[1;33m=\u001b[0m \u001b[0mcontract_expression\u001b[0m\u001b[1;33m(\u001b[0m\u001b[0mequation\u001b[0m\u001b[1;33m,\u001b[0m \u001b[1;33m*\u001b[0m\u001b[0mshapes\u001b[0m\u001b[1;33m)\u001b[0m\u001b[1;33m\u001b[0m\u001b[1;33m\u001b[0m\u001b[0m\n\u001b[1;32m---> 46\u001b[1;33m         \u001b[1;32mreturn\u001b[0m \u001b[0mexpr\u001b[0m\u001b[1;33m(\u001b[0m\u001b[1;33m*\u001b[0m\u001b[0moperands\u001b[0m\u001b[1;33m,\u001b[0m \u001b[0mbackend\u001b[0m\u001b[1;33m=\u001b[0m\u001b[0mbackend\u001b[0m\u001b[1;33m,\u001b[0m \u001b[0mout\u001b[0m\u001b[1;33m=\u001b[0m\u001b[0mout\u001b[0m\u001b[1;33m)\u001b[0m\u001b[1;33m\u001b[0m\u001b[1;33m\u001b[0m\u001b[0m\n\u001b[0m\u001b[0;32m     47\u001b[0m \u001b[1;33m\u001b[0m\u001b[0m\n\u001b[0;32m     48\u001b[0m \u001b[1;33m\u001b[0m\u001b[0m\n",
      "\u001b[1;32m~\\Anaconda3\\lib\\site-packages\\opt_einsum\\contract.py\u001b[0m in \u001b[0;36m__call__\u001b[1;34m(self, *arrays, **kwargs)\u001b[0m\n\u001b[0;32m    761\u001b[0m                 \u001b[1;32mreturn\u001b[0m \u001b[0mself\u001b[0m\u001b[1;33m.\u001b[0m\u001b[0m_contract_with_conversion\u001b[0m\u001b[1;33m(\u001b[0m\u001b[0mops\u001b[0m\u001b[1;33m,\u001b[0m \u001b[0mout\u001b[0m\u001b[1;33m,\u001b[0m \u001b[0mbackend\u001b[0m\u001b[1;33m,\u001b[0m \u001b[0mevaluate_constants\u001b[0m\u001b[1;33m=\u001b[0m\u001b[0mevaluate_constants\u001b[0m\u001b[1;33m)\u001b[0m\u001b[1;33m\u001b[0m\u001b[1;33m\u001b[0m\u001b[0m\n\u001b[0;32m    762\u001b[0m \u001b[1;33m\u001b[0m\u001b[0m\n\u001b[1;32m--> 763\u001b[1;33m             \u001b[1;32mreturn\u001b[0m \u001b[0mself\u001b[0m\u001b[1;33m.\u001b[0m\u001b[0m_contract\u001b[0m\u001b[1;33m(\u001b[0m\u001b[0mops\u001b[0m\u001b[1;33m,\u001b[0m \u001b[0mout\u001b[0m\u001b[1;33m,\u001b[0m \u001b[0mbackend\u001b[0m\u001b[1;33m,\u001b[0m \u001b[0mevaluate_constants\u001b[0m\u001b[1;33m=\u001b[0m\u001b[0mevaluate_constants\u001b[0m\u001b[1;33m)\u001b[0m\u001b[1;33m\u001b[0m\u001b[1;33m\u001b[0m\u001b[0m\n\u001b[0m\u001b[0;32m    764\u001b[0m \u001b[1;33m\u001b[0m\u001b[0m\n\u001b[0;32m    765\u001b[0m         \u001b[1;32mexcept\u001b[0m \u001b[0mValueError\u001b[0m \u001b[1;32mas\u001b[0m \u001b[0merr\u001b[0m\u001b[1;33m:\u001b[0m\u001b[1;33m\u001b[0m\u001b[1;33m\u001b[0m\u001b[0m\n",
      "\u001b[1;32m~\\Anaconda3\\lib\\site-packages\\opt_einsum\\contract.py\u001b[0m in \u001b[0;36m_contract\u001b[1;34m(self, arrays, out, backend, evaluate_constants)\u001b[0m\n\u001b[0;32m    691\u001b[0m         \u001b[0mcontraction_list\u001b[0m \u001b[1;33m=\u001b[0m \u001b[0mself\u001b[0m\u001b[1;33m.\u001b[0m\u001b[0m_full_contraction_list\u001b[0m \u001b[1;32mif\u001b[0m \u001b[0mevaluate_constants\u001b[0m \u001b[1;32melse\u001b[0m \u001b[0mself\u001b[0m\u001b[1;33m.\u001b[0m\u001b[0mcontraction_list\u001b[0m\u001b[1;33m\u001b[0m\u001b[1;33m\u001b[0m\u001b[0m\n\u001b[0;32m    692\u001b[0m \u001b[1;33m\u001b[0m\u001b[0m\n\u001b[1;32m--> 693\u001b[1;33m         return _core_contract(list(arrays),\n\u001b[0m\u001b[0;32m    694\u001b[0m                               \u001b[0mcontraction_list\u001b[0m\u001b[1;33m,\u001b[0m\u001b[1;33m\u001b[0m\u001b[1;33m\u001b[0m\u001b[0m\n\u001b[0;32m    695\u001b[0m                               \u001b[0mout\u001b[0m\u001b[1;33m=\u001b[0m\u001b[0mout\u001b[0m\u001b[1;33m,\u001b[0m\u001b[1;33m\u001b[0m\u001b[1;33m\u001b[0m\u001b[0m\n",
      "\u001b[1;32m~\\Anaconda3\\lib\\site-packages\\opt_einsum\\contract.py\u001b[0m in \u001b[0;36m_core_contract\u001b[1;34m(operands, contraction_list, backend, evaluate_constants, **einsum_kwargs)\u001b[0m\n\u001b[0;32m    589\u001b[0m \u001b[1;33m\u001b[0m\u001b[0m\n\u001b[0;32m    590\u001b[0m             \u001b[1;31m# Do the contraction\u001b[0m\u001b[1;33m\u001b[0m\u001b[1;33m\u001b[0m\u001b[1;33m\u001b[0m\u001b[0m\n\u001b[1;32m--> 591\u001b[1;33m             \u001b[0mnew_view\u001b[0m \u001b[1;33m=\u001b[0m \u001b[0m_einsum\u001b[0m\u001b[1;33m(\u001b[0m\u001b[0meinsum_str\u001b[0m\u001b[1;33m,\u001b[0m \u001b[1;33m*\u001b[0m\u001b[0mtmp_operands\u001b[0m\u001b[1;33m,\u001b[0m \u001b[0mbackend\u001b[0m\u001b[1;33m=\u001b[0m\u001b[0mbackend\u001b[0m\u001b[1;33m,\u001b[0m \u001b[1;33m**\u001b[0m\u001b[0meinsum_kwargs\u001b[0m\u001b[1;33m)\u001b[0m\u001b[1;33m\u001b[0m\u001b[1;33m\u001b[0m\u001b[0m\n\u001b[0m\u001b[0;32m    592\u001b[0m \u001b[1;33m\u001b[0m\u001b[0m\n\u001b[0;32m    593\u001b[0m         \u001b[1;31m# Append new items and dereference what we can\u001b[0m\u001b[1;33m\u001b[0m\u001b[1;33m\u001b[0m\u001b[1;33m\u001b[0m\u001b[0m\n",
      "\u001b[1;32m~\\Anaconda3\\lib\\site-packages\\opt_einsum\\sharing.py\u001b[0m in \u001b[0;36mcached_einsum\u001b[1;34m(*args, **kwargs)\u001b[0m\n\u001b[0;32m    166\u001b[0m \u001b[1;33m\u001b[0m\u001b[0m\n\u001b[0;32m    167\u001b[0m         \u001b[0mkey\u001b[0m \u001b[1;33m=\u001b[0m \u001b[1;34m'einsum'\u001b[0m\u001b[1;33m,\u001b[0m \u001b[0mbackend\u001b[0m\u001b[1;33m,\u001b[0m \u001b[0mcanonical_equation\u001b[0m\u001b[1;33m,\u001b[0m \u001b[0mcanonical_ids\u001b[0m\u001b[1;33m\u001b[0m\u001b[1;33m\u001b[0m\u001b[0m\n\u001b[1;32m--> 168\u001b[1;33m         \u001b[1;32mreturn\u001b[0m \u001b[0m_memoize\u001b[0m\u001b[1;33m(\u001b[0m\u001b[0mkey\u001b[0m\u001b[1;33m,\u001b[0m \u001b[0meinsum\u001b[0m\u001b[1;33m,\u001b[0m \u001b[0mequation\u001b[0m\u001b[1;33m,\u001b[0m \u001b[1;33m*\u001b[0m\u001b[0moperands\u001b[0m\u001b[1;33m,\u001b[0m \u001b[0mbackend\u001b[0m\u001b[1;33m=\u001b[0m\u001b[0mbackend\u001b[0m\u001b[1;33m)\u001b[0m\u001b[1;33m\u001b[0m\u001b[1;33m\u001b[0m\u001b[0m\n\u001b[0m\u001b[0;32m    169\u001b[0m \u001b[1;33m\u001b[0m\u001b[0m\n\u001b[0;32m    170\u001b[0m     \u001b[1;32mreturn\u001b[0m \u001b[0mcached_einsum\u001b[0m\u001b[1;33m\u001b[0m\u001b[1;33m\u001b[0m\u001b[0m\n",
      "\u001b[1;32m~\\Anaconda3\\lib\\site-packages\\opt_einsum\\sharing.py\u001b[0m in \u001b[0;36m_memoize\u001b[1;34m(key, fn, *args, **kwargs)\u001b[0m\n\u001b[0;32m     99\u001b[0m     \u001b[1;32mif\u001b[0m \u001b[0mkey\u001b[0m \u001b[1;32min\u001b[0m \u001b[0mcache\u001b[0m\u001b[1;33m:\u001b[0m\u001b[1;33m\u001b[0m\u001b[1;33m\u001b[0m\u001b[0m\n\u001b[0;32m    100\u001b[0m         \u001b[1;32mreturn\u001b[0m \u001b[0mcache\u001b[0m\u001b[1;33m[\u001b[0m\u001b[0mkey\u001b[0m\u001b[1;33m]\u001b[0m\u001b[1;33m\u001b[0m\u001b[1;33m\u001b[0m\u001b[0m\n\u001b[1;32m--> 101\u001b[1;33m     \u001b[0mresult\u001b[0m \u001b[1;33m=\u001b[0m \u001b[0mfn\u001b[0m\u001b[1;33m(\u001b[0m\u001b[1;33m*\u001b[0m\u001b[0margs\u001b[0m\u001b[1;33m,\u001b[0m \u001b[1;33m**\u001b[0m\u001b[0mkwargs\u001b[0m\u001b[1;33m)\u001b[0m\u001b[1;33m\u001b[0m\u001b[1;33m\u001b[0m\u001b[0m\n\u001b[0m\u001b[0;32m    102\u001b[0m     \u001b[0mcache\u001b[0m\u001b[1;33m[\u001b[0m\u001b[0mkey\u001b[0m\u001b[1;33m]\u001b[0m \u001b[1;33m=\u001b[0m \u001b[0mresult\u001b[0m\u001b[1;33m\u001b[0m\u001b[1;33m\u001b[0m\u001b[0m\n\u001b[0;32m    103\u001b[0m     \u001b[1;32mreturn\u001b[0m \u001b[0mresult\u001b[0m\u001b[1;33m\u001b[0m\u001b[1;33m\u001b[0m\u001b[0m\n",
      "\u001b[1;32m~\\Anaconda3\\lib\\site-packages\\opt_einsum\\contract.py\u001b[0m in \u001b[0;36m_einsum\u001b[1;34m(*operands, **kwargs)\u001b[0m\n\u001b[0;32m    351\u001b[0m         \u001b[0meinsum_str\u001b[0m \u001b[1;33m=\u001b[0m \u001b[0mparser\u001b[0m\u001b[1;33m.\u001b[0m\u001b[0mconvert_to_valid_einsum_chars\u001b[0m\u001b[1;33m(\u001b[0m\u001b[0meinsum_str\u001b[0m\u001b[1;33m)\u001b[0m\u001b[1;33m\u001b[0m\u001b[1;33m\u001b[0m\u001b[0m\n\u001b[0;32m    352\u001b[0m \u001b[1;33m\u001b[0m\u001b[0m\n\u001b[1;32m--> 353\u001b[1;33m     \u001b[1;32mreturn\u001b[0m \u001b[0mfn\u001b[0m\u001b[1;33m(\u001b[0m\u001b[0meinsum_str\u001b[0m\u001b[1;33m,\u001b[0m \u001b[1;33m*\u001b[0m\u001b[0moperands\u001b[0m\u001b[1;33m,\u001b[0m \u001b[1;33m**\u001b[0m\u001b[0mkwargs\u001b[0m\u001b[1;33m)\u001b[0m\u001b[1;33m\u001b[0m\u001b[1;33m\u001b[0m\u001b[0m\n\u001b[0m\u001b[0;32m    354\u001b[0m \u001b[1;33m\u001b[0m\u001b[0m\n\u001b[0;32m    355\u001b[0m \u001b[1;33m\u001b[0m\u001b[0m\n",
      "\u001b[1;32m~\\Anaconda3\\lib\\site-packages\\pyro\\ops\\einsum\\torch_log.py\u001b[0m in \u001b[0;36meinsum\u001b[1;34m(equation, *operands)\u001b[0m\n\u001b[0;32m     35\u001b[0m                 \u001b[0mshift\u001b[0m \u001b[1;33m=\u001b[0m \u001b[0mshift\u001b[0m\u001b[1;33m.\u001b[0m\u001b[0mmax\u001b[0m\u001b[1;33m(\u001b[0m\u001b[0mi\u001b[0m\u001b[1;33m,\u001b[0m \u001b[0mkeepdim\u001b[0m\u001b[1;33m=\u001b[0m\u001b[1;32mTrue\u001b[0m\u001b[1;33m)\u001b[0m\u001b[1;33m[\u001b[0m\u001b[1;36m0\u001b[0m\u001b[1;33m]\u001b[0m\u001b[1;33m\u001b[0m\u001b[1;33m\u001b[0m\u001b[0m\n\u001b[0;32m     36\u001b[0m         \u001b[1;31m# avoid nan due to -inf - -inf\u001b[0m\u001b[1;33m\u001b[0m\u001b[1;33m\u001b[0m\u001b[1;33m\u001b[0m\u001b[0m\n\u001b[1;32m---> 37\u001b[1;33m         \u001b[0mshift\u001b[0m \u001b[1;33m=\u001b[0m \u001b[0mshift\u001b[0m\u001b[1;33m.\u001b[0m\u001b[0mclamp\u001b[0m\u001b[1;33m(\u001b[0m\u001b[0mmin\u001b[0m\u001b[1;33m=\u001b[0m\u001b[0mtorch\u001b[0m\u001b[1;33m.\u001b[0m\u001b[0mfinfo\u001b[0m\u001b[1;33m(\u001b[0m\u001b[0mshift\u001b[0m\u001b[1;33m.\u001b[0m\u001b[0mdtype\u001b[0m\u001b[1;33m)\u001b[0m\u001b[1;33m.\u001b[0m\u001b[0mmin\u001b[0m\u001b[1;33m)\u001b[0m\u001b[1;33m\u001b[0m\u001b[1;33m\u001b[0m\u001b[0m\n\u001b[0m\u001b[0;32m     38\u001b[0m         \u001b[0mexp_operands\u001b[0m\u001b[1;33m.\u001b[0m\u001b[0mappend\u001b[0m\u001b[1;33m(\u001b[0m\u001b[1;33m(\u001b[0m\u001b[0moperand\u001b[0m \u001b[1;33m-\u001b[0m \u001b[0mshift\u001b[0m\u001b[1;33m)\u001b[0m\u001b[1;33m.\u001b[0m\u001b[0mexp\u001b[0m\u001b[1;33m(\u001b[0m\u001b[1;33m)\u001b[0m\u001b[1;33m)\u001b[0m\u001b[1;33m\u001b[0m\u001b[1;33m\u001b[0m\u001b[0m\n\u001b[0;32m     39\u001b[0m \u001b[1;33m\u001b[0m\u001b[0m\n",
      "\u001b[1;31mKeyboardInterrupt\u001b[0m: "
     ]
    }
   ],
   "source": [
    "# %% Training\n",
    "\n",
    "if cuda: torch.set_default_tensor_type(\"torch.cuda.FloatTensor\")\n",
    "\n",
    "logging.info(\"Loading data\")\n",
    "data = poly.load_data(poly.JSB_CHORALES)\n",
    "\n",
    "logging.info(\"-\" * 40)\n",
    "sequences = data[\"train\"][\"sequences\"]\n",
    "lengths = data[\"train\"][\"sequence_lengths\"]\n",
    "\n",
    "present_notes = (sequences == 1).sum(0).sum(0) > 0\n",
    "sequences = sequences[..., present_notes]\n",
    "\n",
    "num_observations = float(lengths.sum())\n",
    "pyro.set_rng_seed(seed)\n",
    "pyro.clear_param_store()\n",
    "\n",
    "guide = AutoDelta(poutine.block(HMM, expose_fn=lambda msg: msg[\"name\"].startswith(\"probs_\")))\n",
    "\n",
    "optim = Adam({\"lr\": learning_rate})\n",
    "elbo = TraceTMC_ELBO(max_plate_nesting=2)\n",
    "tmc_model = poutine.infer_config(HMM,\n",
    "    lambda msg: {\"num_samples\": tmc_num_samples, \"expand\": False} if msg[\"infer\"].get(\"enumerate\", None) == \"parallel\" else {},\n",
    ")\n",
    "svi = SVI(tmc_model, guide, optim, elbo)\n",
    "\n",
    "for step in range(num_steps):\n",
    "    loss = svi.step(sequences, lengths, hidden_dim=hidden_dim, batch_size=batch_size)\n",
    "    logging.info(\"{: >5d}\\t{}\".format(step, loss / num_observations))\n"
   ]
  },
  {
   "cell_type": "code",
   "execution_count": 44,
   "id": "2dae0ea5-adfd-42c1-8ae7-037c2c222370",
   "metadata": {},
   "outputs": [
    {
     "name": "stderr",
     "output_type": "stream",
     "text": [
      " 74736412 training loss = 21.109328601434054\n",
      " 74736413 ----------------------------------------\n",
      " 74736414 Evaluating on 77 test sequences\n",
      " 74737226 test loss = 21.020522486772485\n",
      " 74737228 HMM capacity = 1072 parameters\n"
     ]
    }
   ],
   "source": [
    "# %% Evaluation\n",
    "\n",
    "train_loss = elbo.loss(HMM, guide, sequences, lengths, hidden_dim=hidden_dim, include_prior=False)\n",
    "logging.info(\"training loss = {}\".format(train_loss / num_observations))\n",
    "\n",
    "logging.info(\"-\" * 40)\n",
    "logging.info(\"Evaluating on {} test sequences\".format(len(data[\"test\"][\"sequences\"])))\n",
    "\n",
    "sequences = data[\"test\"][\"sequences\"][..., present_notes]\n",
    "lengths = data[\"test\"][\"sequence_lengths\"]\n",
    "num_observations = float(lengths.sum())\n",
    "\n",
    "test_loss = elbo.loss(HMM, guide, sequences, lengths, hidden_dim=hidden_dim, include_prior=False)\n",
    "logging.info(\"test loss = {}\".format(test_loss / num_observations))\n",
    "\n",
    "capacity = sum(value.reshape(-1).size(0) for value in pyro.get_param_store().values())\n",
    "logging.info(\"{} capacity = {} parameters\".format(HMM.__name__, capacity))\n"
   ]
  },
  {
   "cell_type": "code",
   "execution_count": 42,
   "id": "0f6a5281-c81c-4ac5-ac73-3431793b52b7",
   "metadata": {},
   "outputs": [
    {
     "data": {
      "text/plain": [
       "torch.Size([77, 160, 51])"
      ]
     },
     "execution_count": 42,
     "metadata": {},
     "output_type": "execute_result"
    }
   ],
   "source": [
    "sequences.shape"
   ]
  },
  {
   "cell_type": "code",
   "execution_count": null,
   "id": "884c57f7-8db8-4d0f-9fc7-5fa1e8a223a1",
   "metadata": {},
   "outputs": [],
   "source": [
    "# def HMM(sequences, lengths, hidden_dim, batch_size=None, include_prior=True):\n",
    "#     num_sequences, max_length, data_dim = sequences.shape\n",
    "    \n",
    "#     with poutine.mask(mask=include_prior):\n",
    "#         probs_x = pyro.sample(\"probs_x\",dist.Dirichlet(0.9 * torch.eye(hidden_dim) + 0.1).to_event(1))\n",
    "#         probs_y = pyro.sample(\"probs_y\",dist.Beta(0.1, 0.9).expand([hidden_dim, data_dim]).to_event(2))\n",
    "    \n",
    "#     obs_plate = pyro.plate(\"obs\", data_dim, dim=-1)\n",
    "#     for i in pyro.plate(\"sequences\", len(sequences), batch_size):\n",
    "#         length = lengths[i]\n",
    "#         sequence = sequences[i, :length]\n",
    "#         x = 0\n",
    "#         for t in pyro.markov(range(length)):\n",
    "#             x = pyro.sample(\"x_{}_{}\".format(i, t),dist.Categorical(probs_x[x]),infer={\"enumerate\": \"parallel\"})\n",
    "#             with obs_plate:\n",
    "#                 pyro.sample(\"y_{}_{}\".format(i, t),dist.Bernoulli(probs_y[x.squeeze(-1)]),obs=sequence[t])\n"
   ]
  },
  {
   "cell_type": "code",
   "execution_count": 168,
   "id": "616458f9-e6d4-4b5c-92e9-19720ac429b1",
   "metadata": {},
   "outputs": [],
   "source": [
    "def HMM_Generate(shape, lengths, hidden_dim, batch_size=None, include_prior=True, jit=True):\n",
    "    num_sequences, max_length, data_dim = map(int, shape)\n",
    "    \n",
    "    with poutine.mask(mask=include_prior):\n",
    "        probs_x = pyro.sample(\"probs_x\",dist.Dirichlet(0.9 * torch.eye(hidden_dim) + 0.1).to_event(1))\n",
    "        probs_y = pyro.sample(\"probs_y\",dist.Normal(torch.tensor([0,0,0]).float(),10.0).expand([hidden_dim, data_dim]).to_event(2))\n",
    "#         probs_y = pyro.sample(\"probs_y\",dist.Beta(0.1, 0.9).expand([hidden_dim, data_dim]).to_event(2))\n",
    "        \n",
    "    obs_plate = pyro.plate(\"obs\", data_dim, dim=-1)\n",
    "    \n",
    "    X = []\n",
    "    Y = []\n",
    "    with pyro.plate(\"sequences\", num_sequences, batch_size, dim=-2) as batch:\n",
    "        lengths = lengths[batch]\n",
    "        x = 0\n",
    "        for t in pyro.markov(range(max_length if jit else lengths.max())):\n",
    "            with poutine.mask(mask=(t < lengths).unsqueeze(-1)):\n",
    "                x = pyro.sample(\"x_{}\".format(t),dist.Categorical(probs_x[x]),infer={\"enumerate\": \"parallel\"})\n",
    "                X.append(x)\n",
    "                with obs_plate:\n",
    "#                     y = pyro.sample(\"y_{}\".format(t),dist.Bernoulli(probs_y[x.squeeze(-1)]))\n",
    "                    y = pyro.sample(\"y_{}\".format(t),dist.Normal(probs_y[x.squeeze(-1)],1.0))\n",
    "                    Y.append(y)\n",
    "    return torch.stack(X), torch.stack(Y)\n",
    "\n",
    "def ARHMM_Generate(shape, lengths, hidden_dim, batch_size=None, include_prior=True, jit=True):\n",
    "    num_sequences, max_length, data_dim = map(int, shape)\n",
    "    \n",
    "    with poutine.mask(mask=include_prior):\n",
    "        probs_x = pyro.sample(\"probs_x\",dist.Dirichlet(0.9 * torch.eye(hidden_dim) + 0.1).to_event(1))\n",
    "        probs_y = pyro.sample(\"probs_y\",dist.Normal(torch.tensor([0,0,0]).float(),10.0).expand([hidden_dim, data_dim]).to_event(2))\n",
    "#         probs_y = pyro.sample(\"probs_y\",dist.Beta(0.1, 0.9).expand([hidden_dim, 2, data_dim]).to_event(3))\n",
    "        \n",
    "    obs_plate = pyro.plate(\"obs\", data_dim, dim=-1)\n",
    "    \n",
    "    X = []\n",
    "    Y = []\n",
    "    with pyro.plate(\"sequences\", num_sequences, batch_size, dim=-2) as batch:\n",
    "        lengths = lengths[batch]\n",
    "        x, y = 0, 0\n",
    "        for t in pyro.markov(range(max_length if jit else lengths.max())):\n",
    "            with poutine.mask(mask=(t < lengths).unsqueeze(-1)):\n",
    "                x = pyro.sample(\"x_{}\".format(t),dist.Categorical(probs_x[x]),infer={\"enumerate\": \"parallel\"})\n",
    "                X.append(x)\n",
    "                with obs_plate as obs:\n",
    "                    y = .9*y + pyro.sample(\"y_{}\".format(t),dist.Normal(probs_y[x.squeeze(-1)],1.0))\n",
    "#                     y = pyro.sample(\"y_{}\".format(t),dist.Bernoulli(probs_y[x, y, obs])).long()\n",
    "                    Y.append(y)\n",
    "\n",
    "    return torch.stack(X), torch.stack(Y)"
   ]
  },
  {
   "cell_type": "code",
   "execution_count": 174,
   "id": "1b4db7ff-4d2d-445e-bc02-7d897613c2ed",
   "metadata": {},
   "outputs": [
    {
     "data": {
      "image/png": "[encoded data removed]",
      "text/plain": [
       "<Figure size 720x216 with 1 Axes>"
      ]
     },
     "metadata": {
      "needs_background": "light"
     },
     "output_type": "display_data"
    }
   ],
   "source": [
    "import matplotlib.pyplot as plt\n",
    "import numpy as np\n",
    "logging.getLogger('matplotlib.font_manager').disabled = True\n",
    "\n",
    "def plot_signals(x,z=None,titlestr='',fontsize=12,linewidth=2,save=False,file=None):\n",
    "    plt.figure(figsize=(10,3))\n",
    "    \n",
    "    offset = np.append(0.0, np.nanmax(x[:,0:-1,],0)-np.nanmin(x[:,0:-1],0))\n",
    "    s = (x-np.nanmin(x,0)[None,:]+np.cumsum(offset)[None,:])\n",
    "    \n",
    "    plt.plot(s,linewidth=linewidth)\n",
    "    \n",
    "    if z is not None:\n",
    "        colors = plt.cm.hsv(np.linspace(0,1,max(z)+2)[0:-1])[:,0:3]\n",
    "        t = np.arange(len(z))\n",
    "        for z_ in range(max(z)+1):\n",
    "            plt.vlines(x=t[z==z_], ymin=(s.min()-1), ymax=(s.max()+1), \n",
    "                       color=colors[z_], alpha=.1, lw=1)\n",
    "\n",
    "    plt.yticks(s[0,:],[str(signal_idx) for signal_idx in range(s.shape[1])])\n",
    "        \n",
    "    if save:\n",
    "        plt.savefig(file+'.png',format='png')\n",
    "        plt.savefig(file+'.pdf',format='pdf')\n",
    "        plt.close('all')\n",
    "    else:\n",
    "        plt.show()\n",
    "        \n",
    "\n",
    "X, Y = ARHMM_Generate([1,500,3], lengths*0+500, 4)\n",
    "plot_signals(Y[:,0,:].cpu(),z=X[:,0,0].cpu())"
   ]
  },
  {
   "cell_type": "code",
   "execution_count": null,
   "id": "15f67cd6-8e2c-4e5b-a476-8e4e233f18a7",
   "metadata": {},
   "outputs": [],
   "source": []
  },
  {
   "cell_type": "code",
   "execution_count": null,
   "id": "7b4ea756-e359-4527-b503-03e84888b6f9",
   "metadata": {},
   "outputs": [],
   "source": []
  }
 ],
 "metadata": {
  "kernelspec": {
   "display_name": "Python 3",
   "language": "python",
   "name": "python3"
  },
  "language_info": {
   "codemirror_mode": {
    "name": "ipython",
    "version": 3
   },
   "file_extension": ".py",
   "mimetype": "text/x-python",
   "name": "python",
   "nbconvert_exporter": "python",
   "pygments_lexer": "ipython3",
   "version": "3.8.5"
  }
 },
 "nbformat": 4,
 "nbformat_minor": 5
}
