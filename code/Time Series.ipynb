{
 "cells": [
  {
   "cell_type": "code",
   "execution_count": 93,
   "id": "2c20a044-8fa9-40f9-8c00-0b2a56521f1a",
   "metadata": {},
   "outputs": [
    {
     "name": "stdout",
     "output_type": "stream",
     "text": [
      "The autoreload extension is already loaded. To reload it, use:\n",
      "  %reload_ext autoreload\n"
     ]
    }
   ],
   "source": [
    "import logging\n",
    "import sys\n",
    "\n",
    "import torch\n",
    "import torch.nn as nn\n",
    "from torch.distributions import constraints\n",
    "\n",
    "import pyro\n",
    "import pyro.contrib.examples.polyphonic_data_loader as poly\n",
    "import pyro.distributions as dist\n",
    "from pyro import poutine\n",
    "from pyro.infer import SVI, JitTraceEnum_ELBO, TraceEnum_ELBO, TraceTMC_ELBO\n",
    "from pyro.infer.autoguide import AutoDelta\n",
    "from pyro.ops.indexing import Vindex\n",
    "from pyro.optim import Adam\n",
    "from pyro.util import ignore_jit_warnings\n",
    "\n",
    "import visualization as V\n",
    "\n",
    "%load_ext autoreload\n",
    "%autoreload 2\n",
    "\n",
    "logging.basicConfig(format=\"%(relativeCreated) 9d %(message)s\", level=logging.DEBUG)\n",
    "\n",
    "log = logging.getLogger()\n",
    "debug_handler = logging.StreamHandler(sys.stdout)\n",
    "debug_handler.setLevel(logging.DEBUG)\n",
    "debug_handler.addFilter(filter=lambda record: record.levelno <= logging.DEBUG)\n",
    "log.addHandler(debug_handler)\n",
    "\n",
    "\n",
    "cuda = True\n",
    "num_steps = 10\n",
    "learning_rate = .05\n",
    "tmc_num_samples = 100\n",
    "seed = 0\n",
    "batch_size = 16\n",
    "hidden_dim = 2"
   ]
  },
  {
   "cell_type": "code",
   "execution_count": 143,
   "id": "294627a8-dd53-4f4e-a474-d267c26f3fd0",
   "metadata": {},
   "outputs": [],
   "source": [
    "def HMM(data=None, shape=None, hidden_dim=None, batch_size=None, include_prior=True, jit=True):\n",
    "    if shape is not None:\n",
    "        max_length, num_sequences, data_dim = map(int, shape)\n",
    "    else:\n",
    "        max_length, num_sequences, data_dim = map(int, data.shape)\n",
    "\n",
    "    with poutine.mask(mask=include_prior):\n",
    "        probs_x = pyro.sample(\"probs_x\",dist.Dirichlet(0.9 * torch.eye(hidden_dim) + 0.1).to_event(1))\n",
    "        probs_y = pyro.sample(\"probs_y\",dist.Normal(torch.tensor([0,0,0]).float(),10.0).expand([hidden_dim, data_dim]).to_event(2))\n",
    "#         probs_y = pyro.sample(\"probs_y\",dist.Beta(0.1, 0.9).expand([hidden_dim, data_dim]).to_event(2))\n",
    "        \n",
    "    obs_plate = pyro.plate(\"obs\", data_dim, dim=-1)\n",
    "    \n",
    "    X = []\n",
    "    Y = []\n",
    "    with pyro.plate(\"sequences\", num_sequences, batch_size, dim=-2) as batch:\n",
    "        x = 0\n",
    "        for t in pyro.markov(range(max_length)):\n",
    "            x = pyro.sample(\"x_{}\".format(t),dist.Categorical(probs_x[x]),infer={\"enumerate\": \"parallel\"})\n",
    "            X.append(x.squeeze())\n",
    "            with obs_plate:\n",
    "#                     y = pyro.sample(\"y_{}\".format(t),dist.Bernoulli(probs_y[x.squeeze(-1)]))\n",
    "                if data is None:\n",
    "                    y = pyro.sample(\"y_{}\".format(t),dist.Normal(probs_y[x.squeeze(-1)],1.0))\n",
    "                else:\n",
    "                    y = pyro.sample(\"y_{}\".format(t),dist.Normal(probs_y[x.squeeze(-1)],1.0),obs=data[t,batch])\n",
    "                Y.append(y)\n",
    "    return torch.stack(X), torch.stack(Y), probs_x, probs_y\n",
    "\n",
    "def ARHMM(data=None, shape=None, hidden_dim=None, batch_size=None, include_prior=True, jit=True):\n",
    "    if shape is not None:\n",
    "        max_length, num_sequences, data_dim = map(int, shape)\n",
    "    else:\n",
    "        max_length, num_sequences, data_dim = map(int, data.shape)\n",
    "    \n",
    "    with poutine.mask(mask=include_prior):\n",
    "        probs_x = pyro.sample(\"probs_x\",dist.Dirichlet(0.9 * torch.eye(hidden_dim) + 0.1).to_event(1))\n",
    "        probs_y = pyro.sample(\"probs_y\",dist.Normal(torch.tensor([0,0,0]).float(),10.0).expand([hidden_dim, data_dim]).to_event(2))\n",
    "#         probs_y = pyro.sample(\"probs_y\",dist.Beta(0.1, 0.9).expand([hidden_dim, 2, data_dim]).to_event(3))\n",
    "    \n",
    "        \n",
    "    obs_plate = pyro.plate(\"obs\", data_dim, dim=-1)\n",
    "    \n",
    "    X = []\n",
    "    Y = []\n",
    "    with pyro.plate(\"sequences\", num_sequences, batch_size, dim=-2) as batch:\n",
    "        x, y = 0, 0\n",
    "        for t in pyro.markov(range(max_length)):\n",
    "            x = pyro.sample(\"x_{}\".format(t),dist.Categorical(probs_x[x]),infer={\"enumerate\": \"parallel\"})\n",
    "            X.append(x.squeeze())\n",
    "            with obs_plate as obs:\n",
    "                if data is None:\n",
    "                    y = pyro.sample(\"y_{}\".format(t),dist.Normal(.9*y + probs_y[x.squeeze(-1)],1.0))\n",
    "#                     y = pyro.sample(\"y_{}\".format(t),dist.Bernoulli(probs_y[x, y, obs])).long()\n",
    "                else:\n",
    "                    y = pyro.sample(\"y_{}\".format(t),dist.Normal(.9*y + probs_y[x.squeeze(-1)],1.0),obs=data[t,batch])\n",
    "                Y.append(y)\n",
    "\n",
    "    return torch.stack(X), torch.stack(Y), probs_x, probs_y"
   ]
  },
  {
   "cell_type": "code",
   "execution_count": 144,
   "id": "b73bd59e-22c0-414d-9708-df68af255e65",
   "metadata": {},
   "outputs": [
    {
     "name": "stdout",
     "output_type": "stream",
     "text": [
      "torch.Size([500, 1, 3])\n"
     ]
    },
    {
     "data": {
      "image/png": "[encoded data removed]",
      "text/plain": [
       "<Figure size 720x216 with 1 Axes>"
      ]
     },
     "metadata": {
      "needs_background": "light"
     },
     "output_type": "display_data"
    }
   ],
   "source": [
    "X, Y, probs_x, probs_y = ARHMM(shape=[500,1,3], hidden_dim=4)\n",
    "print(Y.shape)\n",
    "V.plot_signals(Y[:,0,:].cpu(),z=X.cpu().squeeze())"
   ]
  },
  {
   "cell_type": "code",
   "execution_count": 145,
   "id": "75d80d91-5915-44aa-8e5d-3a468d4969e3",
   "metadata": {},
   "outputs": [
    {
     "name": "stdout",
     "output_type": "stream",
     "text": [
      "torch.Size([500])\n",
      "torch.Size([500, 1, 3])\n"
     ]
    }
   ],
   "source": [
    "print(X.shape)\n",
    "print(Y.shape)"
   ]
  },
  {
   "cell_type": "code",
   "execution_count": 146,
   "id": "381a3b1b-0a58-40b6-b70c-7b09a914b510",
   "metadata": {},
   "outputs": [
    {
     "name": "stderr",
     "output_type": "stream",
     "text": [
      "  3782507     0\t90841.859375\n",
      "  3784883     1\t83645.03125\n",
      "  3787213     2\t76793.7578125\n",
      "  3789913     3\t70328.0546875\n",
      "  3792440     4\t64237.54296875\n",
      "  3794706     5\t58556.20703125\n",
      "  3797056     6\t53252.1875\n",
      "  3799290     7\t48293.2421875\n",
      "  3801371     8\t43687.96484375\n",
      "  3803677     9\t39405.0390625\n"
     ]
    }
   ],
   "source": [
    "pyro.set_rng_seed(seed)\n",
    "pyro.clear_param_store()\n",
    "\n",
    "guide = AutoDelta(poutine.block(ARHMM, expose_fn=lambda msg: msg[\"name\"].startswith(\"probs_\")))\n",
    "\n",
    "optim = Adam({\"lr\": .5})\n",
    "elbo = TraceTMC_ELBO(max_plate_nesting=2)\n",
    "tmc_model = poutine.infer_config(ARHMM,\n",
    "    lambda msg: {\"num_samples\": tmc_num_samples, \"expand\": False} if msg[\"infer\"].get(\"enumerate\", None) == \"parallel\" else {},\n",
    ")\n",
    "svi = SVI(tmc_model, guide, optim, elbo)\n",
    "\n",
    "losses = []\n",
    "\n",
    "for step in range(num_steps):\n",
    "    loss = svi.step(data=Y, hidden_dim=hidden_dim, batch_size=1)\n",
    "    losses.append(loss)\n",
    "    logging.info(\"{: >5d}\\t{}\".format(step, loss))\n"
   ]
  },
  {
   "cell_type": "code",
   "execution_count": 149,
   "id": "d7b5edf4-e298-45bc-8f37-fa5e4493b17b",
   "metadata": {},
   "outputs": [
    {
     "name": "stderr",
     "output_type": "stream",
     "text": [
      "  4017792 vmin 37793.32043656828 vmax 94715.86449224537\n"
     ]
    },
    {
     "name": "stdout",
     "output_type": "stream",
     "text": [
      "vmin 37793.32043656828 vmax 94715.86449224537\n",
      "vmin 37793.32043656828 vmax 94715.86449224537\n",
      "vmin 37793.32043656828 vmax 94715.86449224537\n",
      "vmin 37793.32043656828 vmax 94715.86449224537\n",
      "vmin 37793.32043656828 vmax 94715.86449224537\n"
     ]
    },
    {
     "name": "stderr",
     "output_type": "stream",
     "text": [
      "  4017795 ticklocs array([   1000.,   10000.,  100000., 1000000.])\n"
     ]
    },
    {
     "name": "stdout",
     "output_type": "stream",
     "text": [
      "ticklocs array([   1000.,   10000.,  100000., 1000000.])\n",
      "ticklocs array([   1000.,   10000.,  100000., 1000000.])\n",
      "ticklocs array([   1000.,   10000.,  100000., 1000000.])\n",
      "ticklocs array([   1000.,   10000.,  100000., 1000000.])\n",
      "ticklocs array([   1000.,   10000.,  100000., 1000000.])\n"
     ]
    },
    {
     "name": "stderr",
     "output_type": "stream",
     "text": [
      "  4017807 vmin 37793.32043656828 vmax 94715.86449224537\n"
     ]
    },
    {
     "name": "stdout",
     "output_type": "stream",
     "text": [
      "vmin 37793.32043656828 vmax 94715.86449224537\n",
      "vmin 37793.32043656828 vmax 94715.86449224537\n",
      "vmin 37793.32043656828 vmax 94715.86449224537\n",
      "vmin 37793.32043656828 vmax 94715.86449224537\n",
      "vmin 37793.32043656828 vmax 94715.86449224537\n"
     ]
    },
    {
     "name": "stderr",
     "output_type": "stream",
     "text": [
      "  4017813 ticklocs array([   1000.,   10000.,  100000., 1000000.])\n"
     ]
    },
    {
     "name": "stdout",
     "output_type": "stream",
     "text": [
      "ticklocs array([   1000.,   10000.,  100000., 1000000.])\n",
      "ticklocs array([   1000.,   10000.,  100000., 1000000.])\n",
      "ticklocs array([   1000.,   10000.,  100000., 1000000.])\n",
      "ticklocs array([   1000.,   10000.,  100000., 1000000.])\n",
      "ticklocs array([   1000.,   10000.,  100000., 1000000.])\n"
     ]
    },
    {
     "name": "stderr",
     "output_type": "stream",
     "text": [
      "  4017817 vmin 37793.32043656828 vmax 94715.86449224537\n"
     ]
    },
    {
     "name": "stdout",
     "output_type": "stream",
     "text": [
      "vmin 37793.32043656828 vmax 94715.86449224537\n",
      "vmin 37793.32043656828 vmax 94715.86449224537\n",
      "vmin 37793.32043656828 vmax 94715.86449224537\n",
      "vmin 37793.32043656828 vmax 94715.86449224537\n",
      "vmin 37793.32043656828 vmax 94715.86449224537\n"
     ]
    },
    {
     "name": "stderr",
     "output_type": "stream",
     "text": [
      "  4017823 ticklocs array([2.e+03, 3.e+03, 4.e+03, 5.e+03, 6.e+03, 7.e+03, 8.e+03, 9.e+03,\n",
      "       2.e+04, 3.e+04, 4.e+04, 5.e+04, 6.e+04, 7.e+04, 8.e+04, 9.e+04,\n",
      "       2.e+05, 3.e+05, 4.e+05, 5.e+05, 6.e+05, 7.e+05, 8.e+05, 9.e+05,\n",
      "       2.e+06, 3.e+06, 4.e+06, 5.e+06, 6.e+06, 7.e+06, 8.e+06, 9.e+06])\n"
     ]
    },
    {
     "name": "stdout",
     "output_type": "stream",
     "text": [
      "ticklocs array([2.e+03, 3.e+03, 4.e+03, 5.e+03, 6.e+03, 7.e+03, 8.e+03, 9.e+03,\n",
      "       2.e+04, 3.e+04, 4.e+04, 5.e+04, 6.e+04, 7.e+04, 8.e+04, 9.e+04,\n",
      "       2.e+05, 3.e+05, 4.e+05, 5.e+05, 6.e+05, 7.e+05, 8.e+05, 9.e+05,\n",
      "       2.e+06, 3.e+06, 4.e+06, 5.e+06, 6.e+06, 7.e+06, 8.e+06, 9.e+06])\n",
      "ticklocs array([2.e+03, 3.e+03, 4.e+03, 5.e+03, 6.e+03, 7.e+03, 8.e+03, 9.e+03,\n",
      "       2.e+04, 3.e+04, 4.e+04, 5.e+04, 6.e+04, 7.e+04, 8.e+04, 9.e+04,\n",
      "       2.e+05, 3.e+05, 4.e+05, 5.e+05, 6.e+05, 7.e+05, 8.e+05, 9.e+05,\n",
      "       2.e+06, 3.e+06, 4.e+06, 5.e+06, 6.e+06, 7.e+06, 8.e+06, 9.e+06])\n",
      "ticklocs array([2.e+03, 3.e+03, 4.e+03, 5.e+03, 6.e+03, 7.e+03, 8.e+03, 9.e+03,\n",
      "       2.e+04, 3.e+04, 4.e+04, 5.e+04, 6.e+04, 7.e+04, 8.e+04, 9.e+04,\n",
      "       2.e+05, 3.e+05, 4.e+05, 5.e+05, 6.e+05, 7.e+05, 8.e+05, 9.e+05,\n",
      "       2.e+06, 3.e+06, 4.e+06, 5.e+06, 6.e+06, 7.e+06, 8.e+06, 9.e+06])\n",
      "ticklocs array([2.e+03, 3.e+03, 4.e+03, 5.e+03, 6.e+03, 7.e+03, 8.e+03, 9.e+03,\n",
      "       2.e+04, 3.e+04, 4.e+04, 5.e+04, 6.e+04, 7.e+04, 8.e+04, 9.e+04,\n",
      "       2.e+05, 3.e+05, 4.e+05, 5.e+05, 6.e+05, 7.e+05, 8.e+05, 9.e+05,\n",
      "       2.e+06, 3.e+06, 4.e+06, 5.e+06, 6.e+06, 7.e+06, 8.e+06, 9.e+06])\n",
      "ticklocs array([2.e+03, 3.e+03, 4.e+03, 5.e+03, 6.e+03, 7.e+03, 8.e+03, 9.e+03,\n",
      "       2.e+04, 3.e+04, 4.e+04, 5.e+04, 6.e+04, 7.e+04, 8.e+04, 9.e+04,\n",
      "       2.e+05, 3.e+05, 4.e+05, 5.e+05, 6.e+05, 7.e+05, 8.e+05, 9.e+05,\n",
      "       2.e+06, 3.e+06, 4.e+06, 5.e+06, 6.e+06, 7.e+06, 8.e+06, 9.e+06])\n"
     ]
    },
    {
     "name": "stderr",
     "output_type": "stream",
     "text": [
      "  4017924 vmin 37793.32043656828 vmax 94715.86449224537\n"
     ]
    },
    {
     "name": "stdout",
     "output_type": "stream",
     "text": [
      "vmin 37793.32043656828 vmax 94715.86449224537\n",
      "vmin 37793.32043656828 vmax 94715.86449224537\n",
      "vmin 37793.32043656828 vmax 94715.86449224537\n",
      "vmin 37793.32043656828 vmax 94715.86449224537\n",
      "vmin 37793.32043656828 vmax 94715.86449224537\n"
     ]
    },
    {
     "name": "stderr",
     "output_type": "stream",
     "text": [
      "  4017928 ticklocs array([   1000.,   10000.,  100000., 1000000.])\n"
     ]
    },
    {
     "name": "stdout",
     "output_type": "stream",
     "text": [
      "ticklocs array([   1000.,   10000.,  100000., 1000000.])\n",
      "ticklocs array([   1000.,   10000.,  100000., 1000000.])\n",
      "ticklocs array([   1000.,   10000.,  100000., 1000000.])\n",
      "ticklocs array([   1000.,   10000.,  100000., 1000000.])\n",
      "ticklocs array([   1000.,   10000.,  100000., 1000000.])\n"
     ]
    },
    {
     "name": "stderr",
     "output_type": "stream",
     "text": [
      "  4017936 vmin 37793.32043656828 vmax 94715.86449224537\n"
     ]
    },
    {
     "name": "stdout",
     "output_type": "stream",
     "text": [
      "vmin 37793.32043656828 vmax 94715.86449224537\n",
      "vmin 37793.32043656828 vmax 94715.86449224537\n",
      "vmin 37793.32043656828 vmax 94715.86449224537\n",
      "vmin 37793.32043656828 vmax 94715.86449224537\n",
      "vmin 37793.32043656828 vmax 94715.86449224537\n"
     ]
    },
    {
     "name": "stderr",
     "output_type": "stream",
     "text": [
      "  4017940 ticklocs array([   1000.,   10000.,  100000., 1000000.])\n"
     ]
    },
    {
     "name": "stdout",
     "output_type": "stream",
     "text": [
      "ticklocs array([   1000.,   10000.,  100000., 1000000.])\n",
      "ticklocs array([   1000.,   10000.,  100000., 1000000.])\n",
      "ticklocs array([   1000.,   10000.,  100000., 1000000.])\n",
      "ticklocs array([   1000.,   10000.,  100000., 1000000.])\n",
      "ticklocs array([   1000.,   10000.,  100000., 1000000.])\n"
     ]
    },
    {
     "name": "stderr",
     "output_type": "stream",
     "text": [
      "  4017947 vmin 37793.32043656828 vmax 94715.86449224537\n"
     ]
    },
    {
     "name": "stdout",
     "output_type": "stream",
     "text": [
      "vmin 37793.32043656828 vmax 94715.86449224537\n",
      "vmin 37793.32043656828 vmax 94715.86449224537\n",
      "vmin 37793.32043656828 vmax 94715.86449224537\n",
      "vmin 37793.32043656828 vmax 94715.86449224537\n",
      "vmin 37793.32043656828 vmax 94715.86449224537\n"
     ]
    },
    {
     "name": "stderr",
     "output_type": "stream",
     "text": [
      "  4017950 ticklocs array([2.e+03, 3.e+03, 4.e+03, 5.e+03, 6.e+03, 7.e+03, 8.e+03, 9.e+03,\n",
      "       2.e+04, 3.e+04, 4.e+04, 5.e+04, 6.e+04, 7.e+04, 8.e+04, 9.e+04,\n",
      "       2.e+05, 3.e+05, 4.e+05, 5.e+05, 6.e+05, 7.e+05, 8.e+05, 9.e+05,\n",
      "       2.e+06, 3.e+06, 4.e+06, 5.e+06, 6.e+06, 7.e+06, 8.e+06, 9.e+06])\n"
     ]
    },
    {
     "name": "stdout",
     "output_type": "stream",
     "text": [
      "ticklocs array([2.e+03, 3.e+03, 4.e+03, 5.e+03, 6.e+03, 7.e+03, 8.e+03, 9.e+03,\n",
      "       2.e+04, 3.e+04, 4.e+04, 5.e+04, 6.e+04, 7.e+04, 8.e+04, 9.e+04,\n",
      "       2.e+05, 3.e+05, 4.e+05, 5.e+05, 6.e+05, 7.e+05, 8.e+05, 9.e+05,\n",
      "       2.e+06, 3.e+06, 4.e+06, 5.e+06, 6.e+06, 7.e+06, 8.e+06, 9.e+06])\n",
      "ticklocs array([2.e+03, 3.e+03, 4.e+03, 5.e+03, 6.e+03, 7.e+03, 8.e+03, 9.e+03,\n",
      "       2.e+04, 3.e+04, 4.e+04, 5.e+04, 6.e+04, 7.e+04, 8.e+04, 9.e+04,\n",
      "       2.e+05, 3.e+05, 4.e+05, 5.e+05, 6.e+05, 7.e+05, 8.e+05, 9.e+05,\n",
      "       2.e+06, 3.e+06, 4.e+06, 5.e+06, 6.e+06, 7.e+06, 8.e+06, 9.e+06])\n",
      "ticklocs array([2.e+03, 3.e+03, 4.e+03, 5.e+03, 6.e+03, 7.e+03, 8.e+03, 9.e+03,\n",
      "       2.e+04, 3.e+04, 4.e+04, 5.e+04, 6.e+04, 7.e+04, 8.e+04, 9.e+04,\n",
      "       2.e+05, 3.e+05, 4.e+05, 5.e+05, 6.e+05, 7.e+05, 8.e+05, 9.e+05,\n",
      "       2.e+06, 3.e+06, 4.e+06, 5.e+06, 6.e+06, 7.e+06, 8.e+06, 9.e+06])\n",
      "ticklocs array([2.e+03, 3.e+03, 4.e+03, 5.e+03, 6.e+03, 7.e+03, 8.e+03, 9.e+03,\n",
      "       2.e+04, 3.e+04, 4.e+04, 5.e+04, 6.e+04, 7.e+04, 8.e+04, 9.e+04,\n",
      "       2.e+05, 3.e+05, 4.e+05, 5.e+05, 6.e+05, 7.e+05, 8.e+05, 9.e+05,\n",
      "       2.e+06, 3.e+06, 4.e+06, 5.e+06, 6.e+06, 7.e+06, 8.e+06, 9.e+06])\n",
      "ticklocs array([2.e+03, 3.e+03, 4.e+03, 5.e+03, 6.e+03, 7.e+03, 8.e+03, 9.e+03,\n",
      "       2.e+04, 3.e+04, 4.e+04, 5.e+04, 6.e+04, 7.e+04, 8.e+04, 9.e+04,\n",
      "       2.e+05, 3.e+05, 4.e+05, 5.e+05, 6.e+05, 7.e+05, 8.e+05, 9.e+05,\n",
      "       2.e+06, 3.e+06, 4.e+06, 5.e+06, 6.e+06, 7.e+06, 8.e+06, 9.e+06])\n"
     ]
    },
    {
     "name": "stderr",
     "output_type": "stream",
     "text": [
      "  4017967 vmin 37793.32043656828 vmax 94715.86449224537\n"
     ]
    },
    {
     "name": "stdout",
     "output_type": "stream",
     "text": [
      "vmin 37793.32043656828 vmax 94715.86449224537\n",
      "vmin 37793.32043656828 vmax 94715.86449224537\n",
      "vmin 37793.32043656828 vmax 94715.86449224537\n",
      "vmin 37793.32043656828 vmax 94715.86449224537\n",
      "vmin 37793.32043656828 vmax 94715.86449224537\n"
     ]
    },
    {
     "name": "stderr",
     "output_type": "stream",
     "text": [
      "  4017970 ticklocs array([   1000.,   10000.,  100000., 1000000.])\n"
     ]
    },
    {
     "name": "stdout",
     "output_type": "stream",
     "text": [
      "ticklocs array([   1000.,   10000.,  100000., 1000000.])\n",
      "ticklocs array([   1000.,   10000.,  100000., 1000000.])\n",
      "ticklocs array([   1000.,   10000.,  100000., 1000000.])\n",
      "ticklocs array([   1000.,   10000.,  100000., 1000000.])\n",
      "ticklocs array([   1000.,   10000.,  100000., 1000000.])\n"
     ]
    },
    {
     "name": "stderr",
     "output_type": "stream",
     "text": [
      "  4017975 vmin 37793.32043656828 vmax 94715.86449224537\n"
     ]
    },
    {
     "name": "stdout",
     "output_type": "stream",
     "text": [
      "vmin 37793.32043656828 vmax 94715.86449224537\n",
      "vmin 37793.32043656828 vmax 94715.86449224537\n",
      "vmin 37793.32043656828 vmax 94715.86449224537\n",
      "vmin 37793.32043656828 vmax 94715.86449224537\n",
      "vmin 37793.32043656828 vmax 94715.86449224537\n"
     ]
    },
    {
     "name": "stderr",
     "output_type": "stream",
     "text": [
      "  4017980 ticklocs array([   1000.,   10000.,  100000., 1000000.])\n"
     ]
    },
    {
     "name": "stdout",
     "output_type": "stream",
     "text": [
      "ticklocs array([   1000.,   10000.,  100000., 1000000.])\n",
      "ticklocs array([   1000.,   10000.,  100000., 1000000.])\n",
      "ticklocs array([   1000.,   10000.,  100000., 1000000.])\n",
      "ticklocs array([   1000.,   10000.,  100000., 1000000.])\n",
      "ticklocs array([   1000.,   10000.,  100000., 1000000.])\n"
     ]
    },
    {
     "name": "stderr",
     "output_type": "stream",
     "text": [
      "  4017984 vmin 37793.32043656828 vmax 94715.86449224537\n"
     ]
    },
    {
     "name": "stdout",
     "output_type": "stream",
     "text": [
      "vmin 37793.32043656828 vmax 94715.86449224537\n",
      "vmin 37793.32043656828 vmax 94715.86449224537\n",
      "vmin 37793.32043656828 vmax 94715.86449224537\n",
      "vmin 37793.32043656828 vmax 94715.86449224537\n",
      "vmin 37793.32043656828 vmax 94715.86449224537\n"
     ]
    },
    {
     "name": "stderr",
     "output_type": "stream",
     "text": [
      "  4017988 ticklocs array([2.e+03, 3.e+03, 4.e+03, 5.e+03, 6.e+03, 7.e+03, 8.e+03, 9.e+03,\n",
      "       2.e+04, 3.e+04, 4.e+04, 5.e+04, 6.e+04, 7.e+04, 8.e+04, 9.e+04,\n",
      "       2.e+05, 3.e+05, 4.e+05, 5.e+05, 6.e+05, 7.e+05, 8.e+05, 9.e+05,\n",
      "       2.e+06, 3.e+06, 4.e+06, 5.e+06, 6.e+06, 7.e+06, 8.e+06, 9.e+06])\n"
     ]
    },
    {
     "name": "stdout",
     "output_type": "stream",
     "text": [
      "ticklocs array([2.e+03, 3.e+03, 4.e+03, 5.e+03, 6.e+03, 7.e+03, 8.e+03, 9.e+03,\n",
      "       2.e+04, 3.e+04, 4.e+04, 5.e+04, 6.e+04, 7.e+04, 8.e+04, 9.e+04,\n",
      "       2.e+05, 3.e+05, 4.e+05, 5.e+05, 6.e+05, 7.e+05, 8.e+05, 9.e+05,\n",
      "       2.e+06, 3.e+06, 4.e+06, 5.e+06, 6.e+06, 7.e+06, 8.e+06, 9.e+06])\n",
      "ticklocs array([2.e+03, 3.e+03, 4.e+03, 5.e+03, 6.e+03, 7.e+03, 8.e+03, 9.e+03,\n",
      "       2.e+04, 3.e+04, 4.e+04, 5.e+04, 6.e+04, 7.e+04, 8.e+04, 9.e+04,\n",
      "       2.e+05, 3.e+05, 4.e+05, 5.e+05, 6.e+05, 7.e+05, 8.e+05, 9.e+05,\n",
      "       2.e+06, 3.e+06, 4.e+06, 5.e+06, 6.e+06, 7.e+06, 8.e+06, 9.e+06])\n",
      "ticklocs array([2.e+03, 3.e+03, 4.e+03, 5.e+03, 6.e+03, 7.e+03, 8.e+03, 9.e+03,\n",
      "       2.e+04, 3.e+04, 4.e+04, 5.e+04, 6.e+04, 7.e+04, 8.e+04, 9.e+04,\n",
      "       2.e+05, 3.e+05, 4.e+05, 5.e+05, 6.e+05, 7.e+05, 8.e+05, 9.e+05,\n",
      "       2.e+06, 3.e+06, 4.e+06, 5.e+06, 6.e+06, 7.e+06, 8.e+06, 9.e+06])\n",
      "ticklocs array([2.e+03, 3.e+03, 4.e+03, 5.e+03, 6.e+03, 7.e+03, 8.e+03, 9.e+03,\n",
      "       2.e+04, 3.e+04, 4.e+04, 5.e+04, 6.e+04, 7.e+04, 8.e+04, 9.e+04,\n",
      "       2.e+05, 3.e+05, 4.e+05, 5.e+05, 6.e+05, 7.e+05, 8.e+05, 9.e+05,\n",
      "       2.e+06, 3.e+06, 4.e+06, 5.e+06, 6.e+06, 7.e+06, 8.e+06, 9.e+06])\n",
      "ticklocs array([2.e+03, 3.e+03, 4.e+03, 5.e+03, 6.e+03, 7.e+03, 8.e+03, 9.e+03,\n",
      "       2.e+04, 3.e+04, 4.e+04, 5.e+04, 6.e+04, 7.e+04, 8.e+04, 9.e+04,\n",
      "       2.e+05, 3.e+05, 4.e+05, 5.e+05, 6.e+05, 7.e+05, 8.e+05, 9.e+05,\n",
      "       2.e+06, 3.e+06, 4.e+06, 5.e+06, 6.e+06, 7.e+06, 8.e+06, 9.e+06])\n"
     ]
    },
    {
     "name": "stderr",
     "output_type": "stream",
     "text": [
      "  4017999 vmin 37793.32043656828 vmax 94715.86449224537\n"
     ]
    },
    {
     "name": "stdout",
     "output_type": "stream",
     "text": [
      "vmin 37793.32043656828 vmax 94715.86449224537\n",
      "vmin 37793.32043656828 vmax 94715.86449224537\n",
      "vmin 37793.32043656828 vmax 94715.86449224537\n",
      "vmin 37793.32043656828 vmax 94715.86449224537\n",
      "vmin 37793.32043656828 vmax 94715.86449224537\n"
     ]
    },
    {
     "name": "stderr",
     "output_type": "stream",
     "text": [
      "  4018001 ticklocs array([   1000.,   10000.,  100000., 1000000.])\n"
     ]
    },
    {
     "name": "stdout",
     "output_type": "stream",
     "text": [
      "ticklocs array([   1000.,   10000.,  100000., 1000000.])\n",
      "ticklocs array([   1000.,   10000.,  100000., 1000000.])\n",
      "ticklocs array([   1000.,   10000.,  100000., 1000000.])\n",
      "ticklocs array([   1000.,   10000.,  100000., 1000000.])\n",
      "ticklocs array([   1000.,   10000.,  100000., 1000000.])\n"
     ]
    },
    {
     "name": "stderr",
     "output_type": "stream",
     "text": [
      "  4018007 vmin 37793.32043656828 vmax 94715.86449224537\n"
     ]
    },
    {
     "name": "stdout",
     "output_type": "stream",
     "text": [
      "vmin 37793.32043656828 vmax 94715.86449224537\n",
      "vmin 37793.32043656828 vmax 94715.86449224537\n",
      "vmin 37793.32043656828 vmax 94715.86449224537\n",
      "vmin 37793.32043656828 vmax 94715.86449224537\n",
      "vmin 37793.32043656828 vmax 94715.86449224537\n"
     ]
    },
    {
     "name": "stderr",
     "output_type": "stream",
     "text": [
      "  4018012 ticklocs array([   1000.,   10000.,  100000., 1000000.])\n"
     ]
    },
    {
     "name": "stdout",
     "output_type": "stream",
     "text": [
      "ticklocs array([   1000.,   10000.,  100000., 1000000.])\n",
      "ticklocs array([   1000.,   10000.,  100000., 1000000.])\n",
      "ticklocs array([   1000.,   10000.,  100000., 1000000.])\n",
      "ticklocs array([   1000.,   10000.,  100000., 1000000.])\n",
      "ticklocs array([   1000.,   10000.,  100000., 1000000.])\n"
     ]
    },
    {
     "name": "stderr",
     "output_type": "stream",
     "text": [
      "  4018018 vmin 37793.32043656828 vmax 94715.86449224537\n"
     ]
    },
    {
     "name": "stdout",
     "output_type": "stream",
     "text": [
      "vmin 37793.32043656828 vmax 94715.86449224537\n",
      "vmin 37793.32043656828 vmax 94715.86449224537\n",
      "vmin 37793.32043656828 vmax 94715.86449224537\n",
      "vmin 37793.32043656828 vmax 94715.86449224537\n",
      "vmin 37793.32043656828 vmax 94715.86449224537\n"
     ]
    },
    {
     "name": "stderr",
     "output_type": "stream",
     "text": [
      "  4018022 ticklocs array([2.e+03, 3.e+03, 4.e+03, 5.e+03, 6.e+03, 7.e+03, 8.e+03, 9.e+03,\n",
      "       2.e+04, 3.e+04, 4.e+04, 5.e+04, 6.e+04, 7.e+04, 8.e+04, 9.e+04,\n",
      "       2.e+05, 3.e+05, 4.e+05, 5.e+05, 6.e+05, 7.e+05, 8.e+05, 9.e+05,\n",
      "       2.e+06, 3.e+06, 4.e+06, 5.e+06, 6.e+06, 7.e+06, 8.e+06, 9.e+06])\n"
     ]
    },
    {
     "name": "stdout",
     "output_type": "stream",
     "text": [
      "ticklocs array([2.e+03, 3.e+03, 4.e+03, 5.e+03, 6.e+03, 7.e+03, 8.e+03, 9.e+03,\n",
      "       2.e+04, 3.e+04, 4.e+04, 5.e+04, 6.e+04, 7.e+04, 8.e+04, 9.e+04,\n",
      "       2.e+05, 3.e+05, 4.e+05, 5.e+05, 6.e+05, 7.e+05, 8.e+05, 9.e+05,\n",
      "       2.e+06, 3.e+06, 4.e+06, 5.e+06, 6.e+06, 7.e+06, 8.e+06, 9.e+06])\n",
      "ticklocs array([2.e+03, 3.e+03, 4.e+03, 5.e+03, 6.e+03, 7.e+03, 8.e+03, 9.e+03,\n",
      "       2.e+04, 3.e+04, 4.e+04, 5.e+04, 6.e+04, 7.e+04, 8.e+04, 9.e+04,\n",
      "       2.e+05, 3.e+05, 4.e+05, 5.e+05, 6.e+05, 7.e+05, 8.e+05, 9.e+05,\n",
      "       2.e+06, 3.e+06, 4.e+06, 5.e+06, 6.e+06, 7.e+06, 8.e+06, 9.e+06])\n",
      "ticklocs array([2.e+03, 3.e+03, 4.e+03, 5.e+03, 6.e+03, 7.e+03, 8.e+03, 9.e+03,\n",
      "       2.e+04, 3.e+04, 4.e+04, 5.e+04, 6.e+04, 7.e+04, 8.e+04, 9.e+04,\n",
      "       2.e+05, 3.e+05, 4.e+05, 5.e+05, 6.e+05, 7.e+05, 8.e+05, 9.e+05,\n",
      "       2.e+06, 3.e+06, 4.e+06, 5.e+06, 6.e+06, 7.e+06, 8.e+06, 9.e+06])\n",
      "ticklocs array([2.e+03, 3.e+03, 4.e+03, 5.e+03, 6.e+03, 7.e+03, 8.e+03, 9.e+03,\n",
      "       2.e+04, 3.e+04, 4.e+04, 5.e+04, 6.e+04, 7.e+04, 8.e+04, 9.e+04,\n",
      "       2.e+05, 3.e+05, 4.e+05, 5.e+05, 6.e+05, 7.e+05, 8.e+05, 9.e+05,\n",
      "       2.e+06, 3.e+06, 4.e+06, 5.e+06, 6.e+06, 7.e+06, 8.e+06, 9.e+06])\n",
      "ticklocs array([2.e+03, 3.e+03, 4.e+03, 5.e+03, 6.e+03, 7.e+03, 8.e+03, 9.e+03,\n",
      "       2.e+04, 3.e+04, 4.e+04, 5.e+04, 6.e+04, 7.e+04, 8.e+04, 9.e+04,\n",
      "       2.e+05, 3.e+05, 4.e+05, 5.e+05, 6.e+05, 7.e+05, 8.e+05, 9.e+05,\n",
      "       2.e+06, 3.e+06, 4.e+06, 5.e+06, 6.e+06, 7.e+06, 8.e+06, 9.e+06])\n"
     ]
    },
    {
     "name": "stderr",
     "output_type": "stream",
     "text": [
      "  4018043 vmin 37793.32043656828 vmax 94715.86449224537\n"
     ]
    },
    {
     "name": "stdout",
     "output_type": "stream",
     "text": [
      "vmin 37793.32043656828 vmax 94715.86449224537\n",
      "vmin 37793.32043656828 vmax 94715.86449224537\n",
      "vmin 37793.32043656828 vmax 94715.86449224537\n",
      "vmin 37793.32043656828 vmax 94715.86449224537\n",
      "vmin 37793.32043656828 vmax 94715.86449224537\n"
     ]
    },
    {
     "name": "stderr",
     "output_type": "stream",
     "text": [
      "  4018047 ticklocs array([   1000.,   10000.,  100000., 1000000.])\n"
     ]
    },
    {
     "name": "stdout",
     "output_type": "stream",
     "text": [
      "ticklocs array([   1000.,   10000.,  100000., 1000000.])\n",
      "ticklocs array([   1000.,   10000.,  100000., 1000000.])\n",
      "ticklocs array([   1000.,   10000.,  100000., 1000000.])\n",
      "ticklocs array([   1000.,   10000.,  100000., 1000000.])\n",
      "ticklocs array([   1000.,   10000.,  100000., 1000000.])\n"
     ]
    },
    {
     "name": "stderr",
     "output_type": "stream",
     "text": [
      "  4018052 vmin 37793.32043656828 vmax 94715.86449224537\n"
     ]
    },
    {
     "name": "stdout",
     "output_type": "stream",
     "text": [
      "vmin 37793.32043656828 vmax 94715.86449224537\n",
      "vmin 37793.32043656828 vmax 94715.86449224537\n",
      "vmin 37793.32043656828 vmax 94715.86449224537\n",
      "vmin 37793.32043656828 vmax 94715.86449224537\n",
      "vmin 37793.32043656828 vmax 94715.86449224537\n"
     ]
    },
    {
     "name": "stderr",
     "output_type": "stream",
     "text": [
      "  4018055 ticklocs array([   1000.,   10000.,  100000., 1000000.])\n"
     ]
    },
    {
     "name": "stdout",
     "output_type": "stream",
     "text": [
      "ticklocs array([   1000.,   10000.,  100000., 1000000.])\n",
      "ticklocs array([   1000.,   10000.,  100000., 1000000.])\n",
      "ticklocs array([   1000.,   10000.,  100000., 1000000.])\n",
      "ticklocs array([   1000.,   10000.,  100000., 1000000.])\n",
      "ticklocs array([   1000.,   10000.,  100000., 1000000.])\n"
     ]
    },
    {
     "name": "stderr",
     "output_type": "stream",
     "text": [
      "  4018063 vmin 37793.32043656828 vmax 94715.86449224537\n"
     ]
    },
    {
     "name": "stdout",
     "output_type": "stream",
     "text": [
      "vmin 37793.32043656828 vmax 94715.86449224537\n",
      "vmin 37793.32043656828 vmax 94715.86449224537\n",
      "vmin 37793.32043656828 vmax 94715.86449224537\n",
      "vmin 37793.32043656828 vmax 94715.86449224537\n",
      "vmin 37793.32043656828 vmax 94715.86449224537\n"
     ]
    },
    {
     "name": "stderr",
     "output_type": "stream",
     "text": [
      "  4018066 ticklocs array([2.e+03, 3.e+03, 4.e+03, 5.e+03, 6.e+03, 7.e+03, 8.e+03, 9.e+03,\n",
      "       2.e+04, 3.e+04, 4.e+04, 5.e+04, 6.e+04, 7.e+04, 8.e+04, 9.e+04,\n",
      "       2.e+05, 3.e+05, 4.e+05, 5.e+05, 6.e+05, 7.e+05, 8.e+05, 9.e+05,\n",
      "       2.e+06, 3.e+06, 4.e+06, 5.e+06, 6.e+06, 7.e+06, 8.e+06, 9.e+06])\n"
     ]
    },
    {
     "name": "stdout",
     "output_type": "stream",
     "text": [
      "ticklocs array([2.e+03, 3.e+03, 4.e+03, 5.e+03, 6.e+03, 7.e+03, 8.e+03, 9.e+03,\n",
      "       2.e+04, 3.e+04, 4.e+04, 5.e+04, 6.e+04, 7.e+04, 8.e+04, 9.e+04,\n",
      "       2.e+05, 3.e+05, 4.e+05, 5.e+05, 6.e+05, 7.e+05, 8.e+05, 9.e+05,\n",
      "       2.e+06, 3.e+06, 4.e+06, 5.e+06, 6.e+06, 7.e+06, 8.e+06, 9.e+06])\n",
      "ticklocs array([2.e+03, 3.e+03, 4.e+03, 5.e+03, 6.e+03, 7.e+03, 8.e+03, 9.e+03,\n",
      "       2.e+04, 3.e+04, 4.e+04, 5.e+04, 6.e+04, 7.e+04, 8.e+04, 9.e+04,\n",
      "       2.e+05, 3.e+05, 4.e+05, 5.e+05, 6.e+05, 7.e+05, 8.e+05, 9.e+05,\n",
      "       2.e+06, 3.e+06, 4.e+06, 5.e+06, 6.e+06, 7.e+06, 8.e+06, 9.e+06])\n",
      "ticklocs array([2.e+03, 3.e+03, 4.e+03, 5.e+03, 6.e+03, 7.e+03, 8.e+03, 9.e+03,\n",
      "       2.e+04, 3.e+04, 4.e+04, 5.e+04, 6.e+04, 7.e+04, 8.e+04, 9.e+04,\n",
      "       2.e+05, 3.e+05, 4.e+05, 5.e+05, 6.e+05, 7.e+05, 8.e+05, 9.e+05,\n",
      "       2.e+06, 3.e+06, 4.e+06, 5.e+06, 6.e+06, 7.e+06, 8.e+06, 9.e+06])\n",
      "ticklocs array([2.e+03, 3.e+03, 4.e+03, 5.e+03, 6.e+03, 7.e+03, 8.e+03, 9.e+03,\n",
      "       2.e+04, 3.e+04, 4.e+04, 5.e+04, 6.e+04, 7.e+04, 8.e+04, 9.e+04,\n",
      "       2.e+05, 3.e+05, 4.e+05, 5.e+05, 6.e+05, 7.e+05, 8.e+05, 9.e+05,\n",
      "       2.e+06, 3.e+06, 4.e+06, 5.e+06, 6.e+06, 7.e+06, 8.e+06, 9.e+06])\n",
      "ticklocs array([2.e+03, 3.e+03, 4.e+03, 5.e+03, 6.e+03, 7.e+03, 8.e+03, 9.e+03,\n",
      "       2.e+04, 3.e+04, 4.e+04, 5.e+04, 6.e+04, 7.e+04, 8.e+04, 9.e+04,\n",
      "       2.e+05, 3.e+05, 4.e+05, 5.e+05, 6.e+05, 7.e+05, 8.e+05, 9.e+05,\n",
      "       2.e+06, 3.e+06, 4.e+06, 5.e+06, 6.e+06, 7.e+06, 8.e+06, 9.e+06])\n"
     ]
    },
    {
     "name": "stderr",
     "output_type": "stream",
     "text": [
      "  4018077 vmin 37793.32043656828 vmax 94715.86449224537\n"
     ]
    },
    {
     "name": "stdout",
     "output_type": "stream",
     "text": [
      "vmin 37793.32043656828 vmax 94715.86449224537\n",
      "vmin 37793.32043656828 vmax 94715.86449224537\n",
      "vmin 37793.32043656828 vmax 94715.86449224537\n",
      "vmin 37793.32043656828 vmax 94715.86449224537\n",
      "vmin 37793.32043656828 vmax 94715.86449224537\n"
     ]
    },
    {
     "name": "stderr",
     "output_type": "stream",
     "text": [
      "  4018081 ticklocs array([   1000.,   10000.,  100000., 1000000.])\n"
     ]
    },
    {
     "name": "stdout",
     "output_type": "stream",
     "text": [
      "ticklocs array([   1000.,   10000.,  100000., 1000000.])\n",
      "ticklocs array([   1000.,   10000.,  100000., 1000000.])\n",
      "ticklocs array([   1000.,   10000.,  100000., 1000000.])\n",
      "ticklocs array([   1000.,   10000.,  100000., 1000000.])\n",
      "ticklocs array([   1000.,   10000.,  100000., 1000000.])\n"
     ]
    },
    {
     "name": "stderr",
     "output_type": "stream",
     "text": [
      "  4018087 vmin 37793.32043656828 vmax 94715.86449224537\n"
     ]
    },
    {
     "name": "stdout",
     "output_type": "stream",
     "text": [
      "vmin 37793.32043656828 vmax 94715.86449224537\n",
      "vmin 37793.32043656828 vmax 94715.86449224537\n",
      "vmin 37793.32043656828 vmax 94715.86449224537\n",
      "vmin 37793.32043656828 vmax 94715.86449224537\n",
      "vmin 37793.32043656828 vmax 94715.86449224537\n"
     ]
    },
    {
     "name": "stderr",
     "output_type": "stream",
     "text": [
      "  4018090 ticklocs array([   1000.,   10000.,  100000., 1000000.])\n"
     ]
    },
    {
     "name": "stdout",
     "output_type": "stream",
     "text": [
      "ticklocs array([   1000.,   10000.,  100000., 1000000.])\n",
      "ticklocs array([   1000.,   10000.,  100000., 1000000.])\n",
      "ticklocs array([   1000.,   10000.,  100000., 1000000.])\n",
      "ticklocs array([   1000.,   10000.,  100000., 1000000.])\n",
      "ticklocs array([   1000.,   10000.,  100000., 1000000.])\n"
     ]
    },
    {
     "name": "stderr",
     "output_type": "stream",
     "text": [
      "  4018096 vmin 37793.32043656828 vmax 94715.86449224537\n"
     ]
    },
    {
     "name": "stdout",
     "output_type": "stream",
     "text": [
      "vmin 37793.32043656828 vmax 94715.86449224537\n",
      "vmin 37793.32043656828 vmax 94715.86449224537\n",
      "vmin 37793.32043656828 vmax 94715.86449224537\n",
      "vmin 37793.32043656828 vmax 94715.86449224537\n",
      "vmin 37793.32043656828 vmax 94715.86449224537\n"
     ]
    },
    {
     "name": "stderr",
     "output_type": "stream",
     "text": [
      "  4018099 ticklocs array([2.e+03, 3.e+03, 4.e+03, 5.e+03, 6.e+03, 7.e+03, 8.e+03, 9.e+03,\n",
      "       2.e+04, 3.e+04, 4.e+04, 5.e+04, 6.e+04, 7.e+04, 8.e+04, 9.e+04,\n",
      "       2.e+05, 3.e+05, 4.e+05, 5.e+05, 6.e+05, 7.e+05, 8.e+05, 9.e+05,\n",
      "       2.e+06, 3.e+06, 4.e+06, 5.e+06, 6.e+06, 7.e+06, 8.e+06, 9.e+06])\n"
     ]
    },
    {
     "name": "stdout",
     "output_type": "stream",
     "text": [
      "ticklocs array([2.e+03, 3.e+03, 4.e+03, 5.e+03, 6.e+03, 7.e+03, 8.e+03, 9.e+03,\n",
      "       2.e+04, 3.e+04, 4.e+04, 5.e+04, 6.e+04, 7.e+04, 8.e+04, 9.e+04,\n",
      "       2.e+05, 3.e+05, 4.e+05, 5.e+05, 6.e+05, 7.e+05, 8.e+05, 9.e+05,\n",
      "       2.e+06, 3.e+06, 4.e+06, 5.e+06, 6.e+06, 7.e+06, 8.e+06, 9.e+06])\n",
      "ticklocs array([2.e+03, 3.e+03, 4.e+03, 5.e+03, 6.e+03, 7.e+03, 8.e+03, 9.e+03,\n",
      "       2.e+04, 3.e+04, 4.e+04, 5.e+04, 6.e+04, 7.e+04, 8.e+04, 9.e+04,\n",
      "       2.e+05, 3.e+05, 4.e+05, 5.e+05, 6.e+05, 7.e+05, 8.e+05, 9.e+05,\n",
      "       2.e+06, 3.e+06, 4.e+06, 5.e+06, 6.e+06, 7.e+06, 8.e+06, 9.e+06])\n",
      "ticklocs array([2.e+03, 3.e+03, 4.e+03, 5.e+03, 6.e+03, 7.e+03, 8.e+03, 9.e+03,\n",
      "       2.e+04, 3.e+04, 4.e+04, 5.e+04, 6.e+04, 7.e+04, 8.e+04, 9.e+04,\n",
      "       2.e+05, 3.e+05, 4.e+05, 5.e+05, 6.e+05, 7.e+05, 8.e+05, 9.e+05,\n",
      "       2.e+06, 3.e+06, 4.e+06, 5.e+06, 6.e+06, 7.e+06, 8.e+06, 9.e+06])\n",
      "ticklocs array([2.e+03, 3.e+03, 4.e+03, 5.e+03, 6.e+03, 7.e+03, 8.e+03, 9.e+03,\n",
      "       2.e+04, 3.e+04, 4.e+04, 5.e+04, 6.e+04, 7.e+04, 8.e+04, 9.e+04,\n",
      "       2.e+05, 3.e+05, 4.e+05, 5.e+05, 6.e+05, 7.e+05, 8.e+05, 9.e+05,\n",
      "       2.e+06, 3.e+06, 4.e+06, 5.e+06, 6.e+06, 7.e+06, 8.e+06, 9.e+06])\n",
      "ticklocs array([2.e+03, 3.e+03, 4.e+03, 5.e+03, 6.e+03, 7.e+03, 8.e+03, 9.e+03,\n",
      "       2.e+04, 3.e+04, 4.e+04, 5.e+04, 6.e+04, 7.e+04, 8.e+04, 9.e+04,\n",
      "       2.e+05, 3.e+05, 4.e+05, 5.e+05, 6.e+05, 7.e+05, 8.e+05, 9.e+05,\n",
      "       2.e+06, 3.e+06, 4.e+06, 5.e+06, 6.e+06, 7.e+06, 8.e+06, 9.e+06])\n"
     ]
    },
    {
     "name": "stderr",
     "output_type": "stream",
     "text": [
      "  4018120 vmin 37793.32043656828 vmax 94715.86449224537\n"
     ]
    },
    {
     "name": "stdout",
     "output_type": "stream",
     "text": [
      "vmin 37793.32043656828 vmax 94715.86449224537\n",
      "vmin 37793.32043656828 vmax 94715.86449224537\n",
      "vmin 37793.32043656828 vmax 94715.86449224537\n",
      "vmin 37793.32043656828 vmax 94715.86449224537\n",
      "vmin 37793.32043656828 vmax 94715.86449224537\n"
     ]
    },
    {
     "name": "stderr",
     "output_type": "stream",
     "text": [
      "  4018125 ticklocs array([   1000.,   10000.,  100000., 1000000.])\n"
     ]
    },
    {
     "name": "stdout",
     "output_type": "stream",
     "text": [
      "ticklocs array([   1000.,   10000.,  100000., 1000000.])\n",
      "ticklocs array([   1000.,   10000.,  100000., 1000000.])\n",
      "ticklocs array([   1000.,   10000.,  100000., 1000000.])\n",
      "ticklocs array([   1000.,   10000.,  100000., 1000000.])\n",
      "ticklocs array([   1000.,   10000.,  100000., 1000000.])\n"
     ]
    },
    {
     "name": "stderr",
     "output_type": "stream",
     "text": [
      "  4018132 vmin 37793.32043656828 vmax 94715.86449224537\n"
     ]
    },
    {
     "name": "stdout",
     "output_type": "stream",
     "text": [
      "vmin 37793.32043656828 vmax 94715.86449224537\n",
      "vmin 37793.32043656828 vmax 94715.86449224537\n",
      "vmin 37793.32043656828 vmax 94715.86449224537\n",
      "vmin 37793.32043656828 vmax 94715.86449224537\n",
      "vmin 37793.32043656828 vmax 94715.86449224537\n"
     ]
    },
    {
     "name": "stderr",
     "output_type": "stream",
     "text": [
      "  4018135 ticklocs array([   1000.,   10000.,  100000., 1000000.])\n"
     ]
    },
    {
     "name": "stdout",
     "output_type": "stream",
     "text": [
      "ticklocs array([   1000.,   10000.,  100000., 1000000.])\n",
      "ticklocs array([   1000.,   10000.,  100000., 1000000.])\n",
      "ticklocs array([   1000.,   10000.,  100000., 1000000.])\n",
      "ticklocs array([   1000.,   10000.,  100000., 1000000.])\n",
      "ticklocs array([   1000.,   10000.,  100000., 1000000.])\n"
     ]
    },
    {
     "name": "stderr",
     "output_type": "stream",
     "text": [
      "  4018142 vmin 37793.32043656828 vmax 94715.86449224537\n"
     ]
    },
    {
     "name": "stdout",
     "output_type": "stream",
     "text": [
      "vmin 37793.32043656828 vmax 94715.86449224537\n",
      "vmin 37793.32043656828 vmax 94715.86449224537\n",
      "vmin 37793.32043656828 vmax 94715.86449224537\n",
      "vmin 37793.32043656828 vmax 94715.86449224537\n",
      "vmin 37793.32043656828 vmax 94715.86449224537\n"
     ]
    },
    {
     "name": "stderr",
     "output_type": "stream",
     "text": [
      "  4018146 ticklocs array([2.e+03, 3.e+03, 4.e+03, 5.e+03, 6.e+03, 7.e+03, 8.e+03, 9.e+03,\n",
      "       2.e+04, 3.e+04, 4.e+04, 5.e+04, 6.e+04, 7.e+04, 8.e+04, 9.e+04,\n",
      "       2.e+05, 3.e+05, 4.e+05, 5.e+05, 6.e+05, 7.e+05, 8.e+05, 9.e+05,\n",
      "       2.e+06, 3.e+06, 4.e+06, 5.e+06, 6.e+06, 7.e+06, 8.e+06, 9.e+06])\n"
     ]
    },
    {
     "name": "stdout",
     "output_type": "stream",
     "text": [
      "ticklocs array([2.e+03, 3.e+03, 4.e+03, 5.e+03, 6.e+03, 7.e+03, 8.e+03, 9.e+03,\n",
      "       2.e+04, 3.e+04, 4.e+04, 5.e+04, 6.e+04, 7.e+04, 8.e+04, 9.e+04,\n",
      "       2.e+05, 3.e+05, 4.e+05, 5.e+05, 6.e+05, 7.e+05, 8.e+05, 9.e+05,\n",
      "       2.e+06, 3.e+06, 4.e+06, 5.e+06, 6.e+06, 7.e+06, 8.e+06, 9.e+06])\n",
      "ticklocs array([2.e+03, 3.e+03, 4.e+03, 5.e+03, 6.e+03, 7.e+03, 8.e+03, 9.e+03,\n",
      "       2.e+04, 3.e+04, 4.e+04, 5.e+04, 6.e+04, 7.e+04, 8.e+04, 9.e+04,\n",
      "       2.e+05, 3.e+05, 4.e+05, 5.e+05, 6.e+05, 7.e+05, 8.e+05, 9.e+05,\n",
      "       2.e+06, 3.e+06, 4.e+06, 5.e+06, 6.e+06, 7.e+06, 8.e+06, 9.e+06])\n",
      "ticklocs array([2.e+03, 3.e+03, 4.e+03, 5.e+03, 6.e+03, 7.e+03, 8.e+03, 9.e+03,\n",
      "       2.e+04, 3.e+04, 4.e+04, 5.e+04, 6.e+04, 7.e+04, 8.e+04, 9.e+04,\n",
      "       2.e+05, 3.e+05, 4.e+05, 5.e+05, 6.e+05, 7.e+05, 8.e+05, 9.e+05,\n",
      "       2.e+06, 3.e+06, 4.e+06, 5.e+06, 6.e+06, 7.e+06, 8.e+06, 9.e+06])\n",
      "ticklocs array([2.e+03, 3.e+03, 4.e+03, 5.e+03, 6.e+03, 7.e+03, 8.e+03, 9.e+03,\n",
      "       2.e+04, 3.e+04, 4.e+04, 5.e+04, 6.e+04, 7.e+04, 8.e+04, 9.e+04,\n",
      "       2.e+05, 3.e+05, 4.e+05, 5.e+05, 6.e+05, 7.e+05, 8.e+05, 9.e+05,\n",
      "       2.e+06, 3.e+06, 4.e+06, 5.e+06, 6.e+06, 7.e+06, 8.e+06, 9.e+06])\n",
      "ticklocs array([2.e+03, 3.e+03, 4.e+03, 5.e+03, 6.e+03, 7.e+03, 8.e+03, 9.e+03,\n",
      "       2.e+04, 3.e+04, 4.e+04, 5.e+04, 6.e+04, 7.e+04, 8.e+04, 9.e+04,\n",
      "       2.e+05, 3.e+05, 4.e+05, 5.e+05, 6.e+05, 7.e+05, 8.e+05, 9.e+05,\n",
      "       2.e+06, 3.e+06, 4.e+06, 5.e+06, 6.e+06, 7.e+06, 8.e+06, 9.e+06])\n"
     ]
    },
    {
     "name": "stderr",
     "output_type": "stream",
     "text": [
      "  4018155 vmin 37793.32043656828 vmax 94715.86449224537\n"
     ]
    },
    {
     "name": "stdout",
     "output_type": "stream",
     "text": [
      "vmin 37793.32043656828 vmax 94715.86449224537\n",
      "vmin 37793.32043656828 vmax 94715.86449224537\n",
      "vmin 37793.32043656828 vmax 94715.86449224537\n",
      "vmin 37793.32043656828 vmax 94715.86449224537\n",
      "vmin 37793.32043656828 vmax 94715.86449224537\n"
     ]
    },
    {
     "name": "stderr",
     "output_type": "stream",
     "text": [
      "  4018160 ticklocs array([   1000.,   10000.,  100000., 1000000.])\n"
     ]
    },
    {
     "name": "stdout",
     "output_type": "stream",
     "text": [
      "ticklocs array([   1000.,   10000.,  100000., 1000000.])\n",
      "ticklocs array([   1000.,   10000.,  100000., 1000000.])\n",
      "ticklocs array([   1000.,   10000.,  100000., 1000000.])\n",
      "ticklocs array([   1000.,   10000.,  100000., 1000000.])\n",
      "ticklocs array([   1000.,   10000.,  100000., 1000000.])\n"
     ]
    },
    {
     "name": "stderr",
     "output_type": "stream",
     "text": [
      "  4018165 vmin 37793.32043656828 vmax 94715.86449224537\n"
     ]
    },
    {
     "name": "stdout",
     "output_type": "stream",
     "text": [
      "vmin 37793.32043656828 vmax 94715.86449224537\n",
      "vmin 37793.32043656828 vmax 94715.86449224537\n",
      "vmin 37793.32043656828 vmax 94715.86449224537\n",
      "vmin 37793.32043656828 vmax 94715.86449224537\n",
      "vmin 37793.32043656828 vmax 94715.86449224537\n"
     ]
    },
    {
     "name": "stderr",
     "output_type": "stream",
     "text": [
      "  4018168 ticklocs array([   1000.,   10000.,  100000., 1000000.])\n"
     ]
    },
    {
     "name": "stdout",
     "output_type": "stream",
     "text": [
      "ticklocs array([   1000.,   10000.,  100000., 1000000.])\n",
      "ticklocs array([   1000.,   10000.,  100000., 1000000.])\n",
      "ticklocs array([   1000.,   10000.,  100000., 1000000.])\n",
      "ticklocs array([   1000.,   10000.,  100000., 1000000.])\n",
      "ticklocs array([   1000.,   10000.,  100000., 1000000.])\n"
     ]
    },
    {
     "name": "stderr",
     "output_type": "stream",
     "text": [
      "  4018176 vmin 37793.32043656828 vmax 94715.86449224537\n"
     ]
    },
    {
     "name": "stdout",
     "output_type": "stream",
     "text": [
      "vmin 37793.32043656828 vmax 94715.86449224537\n",
      "vmin 37793.32043656828 vmax 94715.86449224537\n",
      "vmin 37793.32043656828 vmax 94715.86449224537\n",
      "vmin 37793.32043656828 vmax 94715.86449224537\n",
      "vmin 37793.32043656828 vmax 94715.86449224537\n"
     ]
    },
    {
     "name": "stderr",
     "output_type": "stream",
     "text": [
      "  4018180 ticklocs array([2.e+03, 3.e+03, 4.e+03, 5.e+03, 6.e+03, 7.e+03, 8.e+03, 9.e+03,\n",
      "       2.e+04, 3.e+04, 4.e+04, 5.e+04, 6.e+04, 7.e+04, 8.e+04, 9.e+04,\n",
      "       2.e+05, 3.e+05, 4.e+05, 5.e+05, 6.e+05, 7.e+05, 8.e+05, 9.e+05,\n",
      "       2.e+06, 3.e+06, 4.e+06, 5.e+06, 6.e+06, 7.e+06, 8.e+06, 9.e+06])\n"
     ]
    },
    {
     "name": "stdout",
     "output_type": "stream",
     "text": [
      "ticklocs array([2.e+03, 3.e+03, 4.e+03, 5.e+03, 6.e+03, 7.e+03, 8.e+03, 9.e+03,\n",
      "       2.e+04, 3.e+04, 4.e+04, 5.e+04, 6.e+04, 7.e+04, 8.e+04, 9.e+04,\n",
      "       2.e+05, 3.e+05, 4.e+05, 5.e+05, 6.e+05, 7.e+05, 8.e+05, 9.e+05,\n",
      "       2.e+06, 3.e+06, 4.e+06, 5.e+06, 6.e+06, 7.e+06, 8.e+06, 9.e+06])\n",
      "ticklocs array([2.e+03, 3.e+03, 4.e+03, 5.e+03, 6.e+03, 7.e+03, 8.e+03, 9.e+03,\n",
      "       2.e+04, 3.e+04, 4.e+04, 5.e+04, 6.e+04, 7.e+04, 8.e+04, 9.e+04,\n",
      "       2.e+05, 3.e+05, 4.e+05, 5.e+05, 6.e+05, 7.e+05, 8.e+05, 9.e+05,\n",
      "       2.e+06, 3.e+06, 4.e+06, 5.e+06, 6.e+06, 7.e+06, 8.e+06, 9.e+06])\n",
      "ticklocs array([2.e+03, 3.e+03, 4.e+03, 5.e+03, 6.e+03, 7.e+03, 8.e+03, 9.e+03,\n",
      "       2.e+04, 3.e+04, 4.e+04, 5.e+04, 6.e+04, 7.e+04, 8.e+04, 9.e+04,\n",
      "       2.e+05, 3.e+05, 4.e+05, 5.e+05, 6.e+05, 7.e+05, 8.e+05, 9.e+05,\n",
      "       2.e+06, 3.e+06, 4.e+06, 5.e+06, 6.e+06, 7.e+06, 8.e+06, 9.e+06])\n",
      "ticklocs array([2.e+03, 3.e+03, 4.e+03, 5.e+03, 6.e+03, 7.e+03, 8.e+03, 9.e+03,\n",
      "       2.e+04, 3.e+04, 4.e+04, 5.e+04, 6.e+04, 7.e+04, 8.e+04, 9.e+04,\n",
      "       2.e+05, 3.e+05, 4.e+05, 5.e+05, 6.e+05, 7.e+05, 8.e+05, 9.e+05,\n",
      "       2.e+06, 3.e+06, 4.e+06, 5.e+06, 6.e+06, 7.e+06, 8.e+06, 9.e+06])\n",
      "ticklocs array([2.e+03, 3.e+03, 4.e+03, 5.e+03, 6.e+03, 7.e+03, 8.e+03, 9.e+03,\n",
      "       2.e+04, 3.e+04, 4.e+04, 5.e+04, 6.e+04, 7.e+04, 8.e+04, 9.e+04,\n",
      "       2.e+05, 3.e+05, 4.e+05, 5.e+05, 6.e+05, 7.e+05, 8.e+05, 9.e+05,\n",
      "       2.e+06, 3.e+06, 4.e+06, 5.e+06, 6.e+06, 7.e+06, 8.e+06, 9.e+06])\n"
     ]
    },
    {
     "name": "stderr",
     "output_type": "stream",
     "text": [
      "  4018208 vmin 37793.32043656828 vmax 94715.86449224537\n"
     ]
    },
    {
     "name": "stdout",
     "output_type": "stream",
     "text": [
      "vmin 37793.32043656828 vmax 94715.86449224537\n",
      "vmin 37793.32043656828 vmax 94715.86449224537\n",
      "vmin 37793.32043656828 vmax 94715.86449224537\n",
      "vmin 37793.32043656828 vmax 94715.86449224537\n",
      "vmin 37793.32043656828 vmax 94715.86449224537\n"
     ]
    },
    {
     "name": "stderr",
     "output_type": "stream",
     "text": [
      "  4018212 ticklocs array([   1000.,   10000.,  100000., 1000000.])\n"
     ]
    },
    {
     "name": "stdout",
     "output_type": "stream",
     "text": [
      "ticklocs array([   1000.,   10000.,  100000., 1000000.])\n",
      "ticklocs array([   1000.,   10000.,  100000., 1000000.])\n",
      "ticklocs array([   1000.,   10000.,  100000., 1000000.])\n",
      "ticklocs array([   1000.,   10000.,  100000., 1000000.])\n",
      "ticklocs array([   1000.,   10000.,  100000., 1000000.])\n"
     ]
    },
    {
     "name": "stderr",
     "output_type": "stream",
     "text": [
      "  4018219 vmin 37793.32043656828 vmax 94715.86449224537\n"
     ]
    },
    {
     "name": "stdout",
     "output_type": "stream",
     "text": [
      "vmin 37793.32043656828 vmax 94715.86449224537\n",
      "vmin 37793.32043656828 vmax 94715.86449224537\n",
      "vmin 37793.32043656828 vmax 94715.86449224537\n",
      "vmin 37793.32043656828 vmax 94715.86449224537\n",
      "vmin 37793.32043656828 vmax 94715.86449224537\n"
     ]
    },
    {
     "name": "stderr",
     "output_type": "stream",
     "text": [
      "  4018222 ticklocs array([   1000.,   10000.,  100000., 1000000.])\n"
     ]
    },
    {
     "name": "stdout",
     "output_type": "stream",
     "text": [
      "ticklocs array([   1000.,   10000.,  100000., 1000000.])\n",
      "ticklocs array([   1000.,   10000.,  100000., 1000000.])\n",
      "ticklocs array([   1000.,   10000.,  100000., 1000000.])\n",
      "ticklocs array([   1000.,   10000.,  100000., 1000000.])\n",
      "ticklocs array([   1000.,   10000.,  100000., 1000000.])\n"
     ]
    },
    {
     "name": "stderr",
     "output_type": "stream",
     "text": [
      "  4018230 vmin 37793.32043656828 vmax 94715.86449224537\n"
     ]
    },
    {
     "name": "stdout",
     "output_type": "stream",
     "text": [
      "vmin 37793.32043656828 vmax 94715.86449224537\n",
      "vmin 37793.32043656828 vmax 94715.86449224537\n",
      "vmin 37793.32043656828 vmax 94715.86449224537\n",
      "vmin 37793.32043656828 vmax 94715.86449224537\n",
      "vmin 37793.32043656828 vmax 94715.86449224537\n"
     ]
    },
    {
     "name": "stderr",
     "output_type": "stream",
     "text": [
      "  4018234 ticklocs array([2.e+03, 3.e+03, 4.e+03, 5.e+03, 6.e+03, 7.e+03, 8.e+03, 9.e+03,\n",
      "       2.e+04, 3.e+04, 4.e+04, 5.e+04, 6.e+04, 7.e+04, 8.e+04, 9.e+04,\n",
      "       2.e+05, 3.e+05, 4.e+05, 5.e+05, 6.e+05, 7.e+05, 8.e+05, 9.e+05,\n",
      "       2.e+06, 3.e+06, 4.e+06, 5.e+06, 6.e+06, 7.e+06, 8.e+06, 9.e+06])\n"
     ]
    },
    {
     "name": "stdout",
     "output_type": "stream",
     "text": [
      "ticklocs array([2.e+03, 3.e+03, 4.e+03, 5.e+03, 6.e+03, 7.e+03, 8.e+03, 9.e+03,\n",
      "       2.e+04, 3.e+04, 4.e+04, 5.e+04, 6.e+04, 7.e+04, 8.e+04, 9.e+04,\n",
      "       2.e+05, 3.e+05, 4.e+05, 5.e+05, 6.e+05, 7.e+05, 8.e+05, 9.e+05,\n",
      "       2.e+06, 3.e+06, 4.e+06, 5.e+06, 6.e+06, 7.e+06, 8.e+06, 9.e+06])\n",
      "ticklocs array([2.e+03, 3.e+03, 4.e+03, 5.e+03, 6.e+03, 7.e+03, 8.e+03, 9.e+03,\n",
      "       2.e+04, 3.e+04, 4.e+04, 5.e+04, 6.e+04, 7.e+04, 8.e+04, 9.e+04,\n",
      "       2.e+05, 3.e+05, 4.e+05, 5.e+05, 6.e+05, 7.e+05, 8.e+05, 9.e+05,\n",
      "       2.e+06, 3.e+06, 4.e+06, 5.e+06, 6.e+06, 7.e+06, 8.e+06, 9.e+06])\n",
      "ticklocs array([2.e+03, 3.e+03, 4.e+03, 5.e+03, 6.e+03, 7.e+03, 8.e+03, 9.e+03,\n",
      "       2.e+04, 3.e+04, 4.e+04, 5.e+04, 6.e+04, 7.e+04, 8.e+04, 9.e+04,\n",
      "       2.e+05, 3.e+05, 4.e+05, 5.e+05, 6.e+05, 7.e+05, 8.e+05, 9.e+05,\n",
      "       2.e+06, 3.e+06, 4.e+06, 5.e+06, 6.e+06, 7.e+06, 8.e+06, 9.e+06])\n",
      "ticklocs array([2.e+03, 3.e+03, 4.e+03, 5.e+03, 6.e+03, 7.e+03, 8.e+03, 9.e+03,\n",
      "       2.e+04, 3.e+04, 4.e+04, 5.e+04, 6.e+04, 7.e+04, 8.e+04, 9.e+04,\n",
      "       2.e+05, 3.e+05, 4.e+05, 5.e+05, 6.e+05, 7.e+05, 8.e+05, 9.e+05,\n",
      "       2.e+06, 3.e+06, 4.e+06, 5.e+06, 6.e+06, 7.e+06, 8.e+06, 9.e+06])\n",
      "ticklocs array([2.e+03, 3.e+03, 4.e+03, 5.e+03, 6.e+03, 7.e+03, 8.e+03, 9.e+03,\n",
      "       2.e+04, 3.e+04, 4.e+04, 5.e+04, 6.e+04, 7.e+04, 8.e+04, 9.e+04,\n",
      "       2.e+05, 3.e+05, 4.e+05, 5.e+05, 6.e+05, 7.e+05, 8.e+05, 9.e+05,\n",
      "       2.e+06, 3.e+06, 4.e+06, 5.e+06, 6.e+06, 7.e+06, 8.e+06, 9.e+06])\n"
     ]
    },
    {
     "name": "stderr",
     "output_type": "stream",
     "text": [
      "  4018295 vmin 37793.32043656828 vmax 94715.86449224537\n"
     ]
    },
    {
     "name": "stdout",
     "output_type": "stream",
     "text": [
      "vmin 37793.32043656828 vmax 94715.86449224537\n",
      "vmin 37793.32043656828 vmax 94715.86449224537\n",
      "vmin 37793.32043656828 vmax 94715.86449224537\n",
      "vmin 37793.32043656828 vmax 94715.86449224537\n",
      "vmin 37793.32043656828 vmax 94715.86449224537\n"
     ]
    },
    {
     "name": "stderr",
     "output_type": "stream",
     "text": [
      "  4018299 ticklocs array([   1000.,   10000.,  100000., 1000000.])\n"
     ]
    },
    {
     "name": "stdout",
     "output_type": "stream",
     "text": [
      "ticklocs array([   1000.,   10000.,  100000., 1000000.])\n",
      "ticklocs array([   1000.,   10000.,  100000., 1000000.])\n",
      "ticklocs array([   1000.,   10000.,  100000., 1000000.])\n",
      "ticklocs array([   1000.,   10000.,  100000., 1000000.])\n",
      "ticklocs array([   1000.,   10000.,  100000., 1000000.])\n"
     ]
    },
    {
     "name": "stderr",
     "output_type": "stream",
     "text": [
      "  4018305 vmin 37793.32043656828 vmax 94715.86449224537\n"
     ]
    },
    {
     "name": "stdout",
     "output_type": "stream",
     "text": [
      "vmin 37793.32043656828 vmax 94715.86449224537\n",
      "vmin 37793.32043656828 vmax 94715.86449224537\n",
      "vmin 37793.32043656828 vmax 94715.86449224537\n",
      "vmin 37793.32043656828 vmax 94715.86449224537\n",
      "vmin 37793.32043656828 vmax 94715.86449224537\n"
     ]
    },
    {
     "name": "stderr",
     "output_type": "stream",
     "text": [
      "  4018310 ticklocs array([   1000.,   10000.,  100000., 1000000.])\n"
     ]
    },
    {
     "name": "stdout",
     "output_type": "stream",
     "text": [
      "ticklocs array([   1000.,   10000.,  100000., 1000000.])\n",
      "ticklocs array([   1000.,   10000.,  100000., 1000000.])\n",
      "ticklocs array([   1000.,   10000.,  100000., 1000000.])\n",
      "ticklocs array([   1000.,   10000.,  100000., 1000000.])\n",
      "ticklocs array([   1000.,   10000.,  100000., 1000000.])\n"
     ]
    },
    {
     "name": "stderr",
     "output_type": "stream",
     "text": [
      "  4018314 vmin 37793.32043656828 vmax 94715.86449224537\n"
     ]
    },
    {
     "name": "stdout",
     "output_type": "stream",
     "text": [
      "vmin 37793.32043656828 vmax 94715.86449224537\n",
      "vmin 37793.32043656828 vmax 94715.86449224537\n",
      "vmin 37793.32043656828 vmax 94715.86449224537\n",
      "vmin 37793.32043656828 vmax 94715.86449224537\n",
      "vmin 37793.32043656828 vmax 94715.86449224537\n"
     ]
    },
    {
     "name": "stderr",
     "output_type": "stream",
     "text": [
      "  4018317 ticklocs array([2.e+03, 3.e+03, 4.e+03, 5.e+03, 6.e+03, 7.e+03, 8.e+03, 9.e+03,\n",
      "       2.e+04, 3.e+04, 4.e+04, 5.e+04, 6.e+04, 7.e+04, 8.e+04, 9.e+04,\n",
      "       2.e+05, 3.e+05, 4.e+05, 5.e+05, 6.e+05, 7.e+05, 8.e+05, 9.e+05,\n",
      "       2.e+06, 3.e+06, 4.e+06, 5.e+06, 6.e+06, 7.e+06, 8.e+06, 9.e+06])\n"
     ]
    },
    {
     "name": "stdout",
     "output_type": "stream",
     "text": [
      "ticklocs array([2.e+03, 3.e+03, 4.e+03, 5.e+03, 6.e+03, 7.e+03, 8.e+03, 9.e+03,\n",
      "       2.e+04, 3.e+04, 4.e+04, 5.e+04, 6.e+04, 7.e+04, 8.e+04, 9.e+04,\n",
      "       2.e+05, 3.e+05, 4.e+05, 5.e+05, 6.e+05, 7.e+05, 8.e+05, 9.e+05,\n",
      "       2.e+06, 3.e+06, 4.e+06, 5.e+06, 6.e+06, 7.e+06, 8.e+06, 9.e+06])\n",
      "ticklocs array([2.e+03, 3.e+03, 4.e+03, 5.e+03, 6.e+03, 7.e+03, 8.e+03, 9.e+03,\n",
      "       2.e+04, 3.e+04, 4.e+04, 5.e+04, 6.e+04, 7.e+04, 8.e+04, 9.e+04,\n",
      "       2.e+05, 3.e+05, 4.e+05, 5.e+05, 6.e+05, 7.e+05, 8.e+05, 9.e+05,\n",
      "       2.e+06, 3.e+06, 4.e+06, 5.e+06, 6.e+06, 7.e+06, 8.e+06, 9.e+06])\n",
      "ticklocs array([2.e+03, 3.e+03, 4.e+03, 5.e+03, 6.e+03, 7.e+03, 8.e+03, 9.e+03,\n",
      "       2.e+04, 3.e+04, 4.e+04, 5.e+04, 6.e+04, 7.e+04, 8.e+04, 9.e+04,\n",
      "       2.e+05, 3.e+05, 4.e+05, 5.e+05, 6.e+05, 7.e+05, 8.e+05, 9.e+05,\n",
      "       2.e+06, 3.e+06, 4.e+06, 5.e+06, 6.e+06, 7.e+06, 8.e+06, 9.e+06])\n",
      "ticklocs array([2.e+03, 3.e+03, 4.e+03, 5.e+03, 6.e+03, 7.e+03, 8.e+03, 9.e+03,\n",
      "       2.e+04, 3.e+04, 4.e+04, 5.e+04, 6.e+04, 7.e+04, 8.e+04, 9.e+04,\n",
      "       2.e+05, 3.e+05, 4.e+05, 5.e+05, 6.e+05, 7.e+05, 8.e+05, 9.e+05,\n",
      "       2.e+06, 3.e+06, 4.e+06, 5.e+06, 6.e+06, 7.e+06, 8.e+06, 9.e+06])\n",
      "ticklocs array([2.e+03, 3.e+03, 4.e+03, 5.e+03, 6.e+03, 7.e+03, 8.e+03, 9.e+03,\n",
      "       2.e+04, 3.e+04, 4.e+04, 5.e+04, 6.e+04, 7.e+04, 8.e+04, 9.e+04,\n",
      "       2.e+05, 3.e+05, 4.e+05, 5.e+05, 6.e+05, 7.e+05, 8.e+05, 9.e+05,\n",
      "       2.e+06, 3.e+06, 4.e+06, 5.e+06, 6.e+06, 7.e+06, 8.e+06, 9.e+06])\n"
     ]
    },
    {
     "data": {
      "image/png": "[encoded data removed]",
      "text/plain": [
       "<Figure size 1000x300 with 1 Axes>"
      ]
     },
     "metadata": {},
     "output_type": "display_data"
    },
    {
     "ename": "NameError",
     "evalue": "name 'title' is not defined",
     "output_type": "error",
     "traceback": [
      "\u001b[1;31m---------------------------------------------------------------------------\u001b[0m",
      "\u001b[1;31mNameError\u001b[0m                                 Traceback (most recent call last)",
      "\u001b[1;32m~\\AppData\\Local\\Temp/ipykernel_19468/117382632.py\u001b[0m in \u001b[0;36m<module>\u001b[1;34m\u001b[0m\n\u001b[0;32m      2\u001b[0m \u001b[1;33m\u001b[0m\u001b[0m\n\u001b[0;32m      3\u001b[0m \u001b[0mV\u001b[0m\u001b[1;33m.\u001b[0m\u001b[0mplot_loss\u001b[0m\u001b[1;33m(\u001b[0m\u001b[0mlosses\u001b[0m\u001b[1;33m)\u001b[0m\u001b[1;33m\u001b[0m\u001b[1;33m\u001b[0m\u001b[0m\n\u001b[1;32m----> 4\u001b[1;33m \u001b[0mV\u001b[0m\u001b[1;33m.\u001b[0m\u001b[0mplot_transition\u001b[0m\u001b[1;33m(\u001b[0m\u001b[1;33m[\u001b[0m\u001b[0mprobs_x\u001b[0m\u001b[1;33m.\u001b[0m\u001b[0mdetach\u001b[0m\u001b[1;33m(\u001b[0m\u001b[1;33m)\u001b[0m\u001b[1;33m.\u001b[0m\u001b[0mnumpy\u001b[0m\u001b[1;33m(\u001b[0m\u001b[1;33m)\u001b[0m\u001b[1;33m,\u001b[0m\u001b[0mmap_estimates\u001b[0m\u001b[1;33m[\u001b[0m\u001b[1;34m'probs_x'\u001b[0m\u001b[1;33m]\u001b[0m\u001b[1;33m.\u001b[0m\u001b[0mdetach\u001b[0m\u001b[1;33m(\u001b[0m\u001b[1;33m)\u001b[0m\u001b[1;33m.\u001b[0m\u001b[0mnumpy\u001b[0m\u001b[1;33m(\u001b[0m\u001b[1;33m)\u001b[0m\u001b[1;33m]\u001b[0m\u001b[1;33m,\u001b[0m\u001b[0mtitles\u001b[0m\u001b[1;33m=\u001b[0m\u001b[1;33m[\u001b[0m\u001b[1;34m'True'\u001b[0m\u001b[1;33m,\u001b[0m\u001b[1;34m'Inferred'\u001b[0m\u001b[1;33m]\u001b[0m\u001b[1;33m)\u001b[0m\u001b[1;33m\u001b[0m\u001b[1;33m\u001b[0m\u001b[0m\n\u001b[0m\u001b[0;32m      5\u001b[0m \u001b[1;33m\u001b[0m\u001b[0m\n\u001b[0;32m      6\u001b[0m \u001b[0mprint\u001b[0m\u001b[1;33m(\u001b[0m\u001b[1;34m'True centers'\u001b[0m\u001b[1;33m)\u001b[0m\u001b[1;33m\u001b[0m\u001b[1;33m\u001b[0m\u001b[0m\n",
      "\u001b[1;32m~\\OneDrive - cumc.columbia.edu\\PhD\\Presentations\\2022.02.17 - NeWS\\code\\visualization.py\u001b[0m in \u001b[0;36mplot_transition\u001b[1;34m(mat, titles)\u001b[0m\n\u001b[0;32m     81\u001b[0m         \u001b[0mplt\u001b[0m\u001b[1;33m.\u001b[0m\u001b[0msubplot\u001b[0m\u001b[1;33m(\u001b[0m\u001b[1;36m1\u001b[0m\u001b[1;33m,\u001b[0m\u001b[0mlen\u001b[0m\u001b[1;33m(\u001b[0m\u001b[0mmat\u001b[0m\u001b[1;33m)\u001b[0m\u001b[1;33m,\u001b[0m\u001b[0mi\u001b[0m\u001b[1;33m+\u001b[0m\u001b[1;36m1\u001b[0m\u001b[1;33m)\u001b[0m\u001b[1;33m\u001b[0m\u001b[1;33m\u001b[0m\u001b[0m\n\u001b[0;32m     82\u001b[0m         \u001b[0mplt\u001b[0m\u001b[1;33m.\u001b[0m\u001b[0mimshow\u001b[0m\u001b[1;33m(\u001b[0m\u001b[0mmat\u001b[0m\u001b[1;33m[\u001b[0m\u001b[0mi\u001b[0m\u001b[1;33m]\u001b[0m\u001b[1;33m)\u001b[0m\u001b[1;33m\u001b[0m\u001b[1;33m\u001b[0m\u001b[0m\n\u001b[1;32m---> 83\u001b[1;33m         \u001b[0mplt\u001b[0m\u001b[1;33m.\u001b[0m\u001b[0mtitle\u001b[0m\u001b[1;33m(\u001b[0m\u001b[0mtitle\u001b[0m\u001b[1;33m[\u001b[0m\u001b[0mi\u001b[0m\u001b[1;33m]\u001b[0m\u001b[1;33m)\u001b[0m\u001b[1;33m\u001b[0m\u001b[1;33m\u001b[0m\u001b[0m\n\u001b[0m\u001b[0;32m     84\u001b[0m         \u001b[0mplt\u001b[0m\u001b[1;33m.\u001b[0m\u001b[0maxis\u001b[0m\u001b[1;33m(\u001b[0m\u001b[1;34m'off'\u001b[0m\u001b[1;33m)\u001b[0m\u001b[1;33m\u001b[0m\u001b[1;33m\u001b[0m\u001b[0m\n\u001b[0;32m     85\u001b[0m \u001b[1;33m\u001b[0m\u001b[0m\n",
      "\u001b[1;31mNameError\u001b[0m: name 'title' is not defined"
     ]
    },
    {
     "data": {
      "image/png": "[encoded data removed]",
      "text/plain": [
       "<Figure size 432x288 with 1 Axes>"
      ]
     },
     "metadata": {
      "needs_background": "light"
     },
     "output_type": "display_data"
    }
   ],
   "source": [
    "map_estimates = guide(Y)\n",
    "\n",
    "V.plot_loss(losses)\n",
    "V.plot_transition([probs_x.detach().numpy(),map_estimates['probs_x'].detach().numpy()],titles=['True','Inferred'])\n",
    "\n",
    "print('True centers')\n",
    "print(probs_y.detach().numpy())\n",
    "\n",
    "print('Inferred centers')\n",
    "map_estimates['probs_y'].detach().numpy()"
   ]
  },
  {
   "cell_type": "code",
   "execution_count": null,
   "id": "54bda7df-a5ca-44e1-9be4-22a1462def07",
   "metadata": {},
   "outputs": [],
   "source": []
  }
 ],
 "metadata": {
  "kernelspec": {
   "display_name": "Python 3",
   "language": "python",
   "name": "python3"
  },
  "language_info": {
   "codemirror_mode": {
    "name": "ipython",
    "version": 3
   },
   "file_extension": ".py",
   "mimetype": "text/x-python",
   "name": "python",
   "nbconvert_exporter": "python",
   "pygments_lexer": "ipython3",
   "version": "3.8.5"
  }
 },
 "nbformat": 4,
 "nbformat_minor": 5
}
