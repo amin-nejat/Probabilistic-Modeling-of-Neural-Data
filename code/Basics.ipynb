{
 "cells": [
  {
   "cell_type": "code",
   "execution_count": 2,
   "metadata": {},
   "outputs": [],
   "source": [
    "from pyro.contrib.autoguide import AutoDelta, AutoMultivariateNormal, AutoDiagonalNormal, AutoLowRankMultivariateNormal\n",
    "from pyro.infer import SVI, TraceEnum_ELBO, config_enumerate, infer_discrete, Trace_ELBO\n",
    "from torch.distributions import constraints\n",
    "from pyro.ops.indexing import Vindex\n",
    "from collections import defaultdict\n",
    "from scipy.linalg import block_diag\n",
    "from scipy.spatial import distance\n",
    "import pyro.distributions as dist\n",
    "from scipy.io import loadmat\n",
    "from pyro.optim import Adam\n",
    "from pyro import poutine\n",
    "import numpy as np\n",
    "import scipy.stats\n",
    "import torch\n",
    "import pyro\n",
    "import os"
   ]
  },
  {
   "cell_type": "code",
   "execution_count": 4,
   "metadata": {},
   "outputs": [
    {
     "name": "stdout",
     "output_type": "stream",
     "text": [
      "sample tensor(1.0049)\n",
      "log prob tensor(-1.4239)\n"
     ]
    }
   ],
   "source": [
    "# SAMPLING FROM A DISTRIBUTION\n",
    "\n",
    "loc = 0.   # mean zero\n",
    "scale = 1. # unit variance\n",
    "normal = torch.distributions.Normal(loc, scale) # create a normal distribution object\n",
    "x = normal.rsample() # draw a sample from N(0,1)\n",
    "print(\"sample\", x)\n",
    "print(\"log prob\", normal.log_prob(x)) # score the sample from N(0,1)\n",
    "\n",
    "\n",
    "import pyro.distributions as dist\n",
    "\n",
    "d = dist.MultivariateNormal(torch.ones((1,3)), torch.eye(3))\n"
   ]
  },
  {
   "cell_type": "code",
   "execution_count": 5,
   "metadata": {},
   "outputs": [
    {
     "name": "stdout",
     "output_type": "stream",
     "text": [
      "('sunny', 80.38508605957031)\n",
      "('sunny', 72.81620025634766)\n",
      "('cloudy', 40.54791259765625)\n"
     ]
    }
   ],
   "source": [
    "# DEFINING A JOINT PROBABILITY DISTRIBUTION\n",
    "\n",
    "def weather():\n",
    "    cloudy = torch.distributions.Bernoulli(0.3).sample()\n",
    "    cloudy = 'cloudy' if cloudy.item() == 1.0 else 'sunny'\n",
    "    mean_temp = {'cloudy': 55.0, 'sunny': 75.0}[cloudy]\n",
    "    scale_temp = {'cloudy': 10.0, 'sunny': 15.0}[cloudy]\n",
    "    temp = torch.distributions.Normal(mean_temp, scale_temp).rsample()\n",
    "    return cloudy, temp.item()\n",
    "\n",
    "for _ in range(3):\n",
    "    print(weather())"
   ]
  },
  {
   "cell_type": "code",
   "execution_count": 6,
   "metadata": {},
   "outputs": [
    {
     "name": "stdout",
     "output_type": "stream",
     "text": [
      "_bound_partial(functools.partial(<function _context_wrap at 0x000001A185545B80>, <pyro.poutine.condition_messenger.ConditionMessenger object at 0x000001A1901CB460>, <function scale at 0x000001A1901E2040>))\n"
     ]
    }
   ],
   "source": [
    "# SIMPLE MODEL\n",
    "\n",
    "def scale(guess):\n",
    "    weight = pyro.sample(\"weight\", dist.Normal(guess, 1.0))\n",
    "    return pyro.sample(\"measurement\", dist.Normal(weight, 0.75))\n",
    "\n",
    "\n",
    "# CONDITIONING ON OBSERVED DATA\n",
    "# Approach 1\n",
    "conditioned_scale = pyro.condition(scale, data={\"measurement\": 9.5})\n",
    "\n",
    "\n",
    "print(conditioned_scale)\n",
    "\n",
    "# # Approach 2\n",
    "# def scale_obs(guess):  # equivalent to conditioned_scale above\n",
    "#     weight = pyro.sample(\"weight\", dist.Normal(guess, 1.))\n",
    "#      # here we condition on measurement == 9.5\n",
    "#     return pyro.sample(\"measurement\", dist.Normal(weight, 1.), obs=9.5)\n"
   ]
  },
  {
   "cell_type": "code",
   "execution_count": 7,
   "metadata": {},
   "outputs": [],
   "source": [
    "# CONSTRAINTS\n",
    "\n",
    "def scale_parametrized_guide(guess):\n",
    "    a = pyro.param(\"a\", torch.tensor(guess))\n",
    "    b = pyro.param(\"b\", torch.tensor(1.))\n",
    "    return pyro.sample(\"weight\", dist.Normal(a, torch.abs(b)))\n",
    "\n",
    "\n",
    "from torch.distributions import constraints\n",
    "\n",
    "def scale_parametrized_guide_constrained(guess):\n",
    "    a = pyro.param(\"a\", torch.tensor(guess))\n",
    "    b = pyro.param(\"b\", torch.tensor(1.), constraint=constraints.positive)\n",
    "    return pyro.sample(\"weight\", dist.Normal(a, b))  # no more torch.abs\n"
   ]
  },
  {
   "cell_type": "code",
   "execution_count": null,
   "metadata": {},
   "outputs": [],
   "source": [
    "# STOCHASTIC VARIATIONAL INFERENCE\n",
    "\n",
    "guess = 8.5\n",
    "\n",
    "pyro.clear_param_store()\n",
    "svi = pyro.infer.SVI(model=conditioned_scale,\n",
    "                     guide=scale_parametrized_guide,\n",
    "                     optim=pyro.optim.SGD({\"lr\": 0.001, \"momentum\":0.1}),\n",
    "                     loss=pyro.infer.Trace_ELBO())\n",
    "\n",
    "\n",
    "losses, a,b  = [], [], []\n",
    "num_steps = 2500\n",
    "for t in range(num_steps):\n",
    "    losses.append(svi.step(guess))\n",
    "    a.append(pyro.param(\"a\").item())\n",
    "    b.append(pyro.param(\"b\").item())\n",
    "\n",
    "plt.plot(losses)\n",
    "plt.title(\"ELBO\")\n",
    "plt.xlabel(\"step\")\n",
    "plt.ylabel(\"loss\");\n",
    "print('a = ',pyro.param(\"a\").item())\n",
    "print('b = ', pyro.param(\"b\").item())\n"
   ]
  },
  {
   "cell_type": "code",
   "execution_count": 10,
   "metadata": {},
   "outputs": [],
   "source": [
    "# DEFAULT ADAM OPTIMIZER\n",
    "from pyro.optim import Adam\n",
    "\n",
    "adam_params = {\"lr\": 0.005, \"betas\": (0.95, 0.999)}\n",
    "optimizer = Adam(adam_params)\n",
    "\n",
    "# CUSTOMIZED ADAM OPTIMIZER (different learning rate for each parameter)\n",
    "\n",
    "from pyro.optim import Adam\n",
    "\n",
    "def per_param_callable(module_name, param_name):\n",
    "    if param_name == 'my_special_parameter':\n",
    "        return {\"lr\": 0.010}\n",
    "    else:\n",
    "        return {\"lr\": 0.001}\n",
    "\n",
    "optimizer = Adam(per_param_callable)\n"
   ]
  }
 ],
 "metadata": {
  "kernelspec": {
   "display_name": "Python 3",
   "language": "python",
   "name": "python3"
  },
  "language_info": {
   "codemirror_mode": {
    "name": "ipython",
    "version": 3
   },
   "file_extension": ".py",
   "mimetype": "text/x-python",
   "name": "python",
   "nbconvert_exporter": "python",
   "pygments_lexer": "ipython3",
   "version": "3.8.5"
  }
 },
 "nbformat": 4,
 "nbformat_minor": 4
}
